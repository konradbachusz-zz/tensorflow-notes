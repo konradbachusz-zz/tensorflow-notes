{
  "nbformat": 4,
  "nbformat_minor": 0,
  "metadata": {
    "kernelspec": {
      "display_name": "Python 2",
      "language": "python",
      "name": "python2"
    },
    "language_info": {
      "codemirror_mode": {
        "name": "ipython",
        "version": 2
      },
      "file_extension": ".py",
      "mimetype": "text/x-python",
      "name": "python",
      "nbconvert_exporter": "python",
      "pygments_lexer": "ipython2",
      "version": "2.7.11"
    },
    "colab": {
      "name": "Autoencoders_Denoising_MNIST.ipynb",
      "provenance": [],
      "include_colab_link": true
    }
  },
  "cells": [
    {
      "cell_type": "markdown",
      "metadata": {
        "id": "view-in-github",
        "colab_type": "text"
      },
      "source": [
        "<a href=\"https://colab.research.google.com/github/konradbachusz/tensorflow-notes/blob/master/Autoencoders_Denoising_MNIST.ipynb\" target=\"_parent\"><img src=\"https://colab.research.google.com/assets/colab-badge.svg\" alt=\"Open In Colab\"/></a>"
      ]
    },
    {
      "cell_type": "markdown",
      "metadata": {
        "deletable": true,
        "editable": true,
        "id": "bHAxHeUXwXH7",
        "colab_type": "text"
      },
      "source": [
        "# Stacked Denoising Autoencoders\n",
        "\n",
        "Inspired and modified from: https://github.com/ageron/handson-ml/blob/master/15_autoencoders.ipynb by Aurélien Géron"
      ]
    },
    {
      "cell_type": "code",
      "metadata": {
        "id": "jxvCyyMJwaPh",
        "colab_type": "code",
        "colab": {
          "base_uri": "https://localhost:8080/",
          "height": 260
        },
        "outputId": "68c961c9-17f4-47e2-b712-f5660c707524"
      },
      "source": [
        "!pip uninstall tensorflow"
      ],
      "execution_count": 1,
      "outputs": [
        {
          "output_type": "stream",
          "text": [
            "Uninstalling tensorflow-2.1.0:\n",
            "  Would remove:\n",
            "    /usr/local/bin/estimator_ckpt_converter\n",
            "    /usr/local/bin/saved_model_cli\n",
            "    /usr/local/bin/tensorboard\n",
            "    /usr/local/bin/tf_upgrade_v2\n",
            "    /usr/local/bin/tflite_convert\n",
            "    /usr/local/bin/toco\n",
            "    /usr/local/bin/toco_from_protos\n",
            "    /usr/local/lib/python2.7/dist-packages/tensorflow-2.1.0.dist-info/*\n",
            "    /usr/local/lib/python2.7/dist-packages/tensorflow/*\n",
            "    /usr/local/lib/python2.7/dist-packages/tensorflow_core/*\n",
            "Proceed (y/n)? y\n",
            "  Successfully uninstalled tensorflow-2.1.0\n"
          ],
          "name": "stdout"
        }
      ]
    },
    {
      "cell_type": "code",
      "metadata": {
        "id": "2dDbSzZNwaF9",
        "colab_type": "code",
        "colab": {
          "base_uri": "https://localhost:8080/",
          "height": 714
        },
        "outputId": "ffd1f0a5-e15d-4555-d739-57eae08e11fa"
      },
      "source": [
        "!pip install tensorflow==1.5"
      ],
      "execution_count": 2,
      "outputs": [
        {
          "output_type": "stream",
          "text": [
            "Collecting tensorflow==1.5\n",
            "\u001b[?25l  Downloading https://files.pythonhosted.org/packages/69/6d/09d4fbeedbafbc6768a94901f14ace4153adba4c2e2c6e6f2080f4a5d1a7/tensorflow-1.5.0-cp27-cp27mu-manylinux1_x86_64.whl (44.4MB)\n",
            "\u001b[K     |████████████████████████████████| 44.4MB 91kB/s \n",
            "\u001b[?25hRequirement already satisfied: mock>=2.0.0 in /usr/local/lib/python2.7/dist-packages (from tensorflow==1.5) (2.0.0)\n",
            "Requirement already satisfied: protobuf>=3.4.0 in /usr/local/lib/python2.7/dist-packages (from tensorflow==1.5) (3.8.0)\n",
            "Requirement already satisfied: wheel in /usr/local/lib/python2.7/dist-packages (from tensorflow==1.5) (0.34.2)\n",
            "Requirement already satisfied: absl-py>=0.1.6 in /usr/local/lib/python2.7/dist-packages (from tensorflow==1.5) (0.7.1)\n",
            "Requirement already satisfied: backports.weakref>=1.0rc1 in /usr/local/lib/python2.7/dist-packages (from tensorflow==1.5) (1.0.post1)\n",
            "Requirement already satisfied: enum34>=1.1.6 in /usr/local/lib/python2.7/dist-packages (from tensorflow==1.5) (1.1.6)\n",
            "Requirement already satisfied: six>=1.10.0 in /usr/local/lib/python2.7/dist-packages (from tensorflow==1.5) (1.12.0)\n",
            "Requirement already satisfied: numpy>=1.12.1 in /usr/local/lib/python2.7/dist-packages (from tensorflow==1.5) (1.16.4)\n",
            "Collecting tensorflow-tensorboard<1.6.0,>=1.5.0\n",
            "\u001b[?25l  Downloading https://files.pythonhosted.org/packages/cd/ba/d664f7c27c710063b1cdfa0309db8fba98952e3a1ba1991ed98efffe69ed/tensorflow_tensorboard-1.5.1-py2-none-any.whl (3.0MB)\n",
            "\u001b[K     |████████████████████████████████| 3.0MB 39.1MB/s \n",
            "\u001b[?25hRequirement already satisfied: funcsigs>=1; python_version < \"3.3\" in /usr/local/lib/python2.7/dist-packages (from mock>=2.0.0->tensorflow==1.5) (1.0.2)\n",
            "Requirement already satisfied: pbr>=0.11 in /usr/local/lib/python2.7/dist-packages (from mock>=2.0.0->tensorflow==1.5) (5.4.0)\n",
            "Requirement already satisfied: setuptools in /usr/local/lib/python2.7/dist-packages (from protobuf>=3.4.0->tensorflow==1.5) (44.1.0)\n",
            "Collecting bleach==1.5.0\n",
            "  Downloading https://files.pythonhosted.org/packages/33/70/86c5fec937ea4964184d4d6c4f0b9551564f821e1c3575907639036d9b90/bleach-1.5.0-py2.py3-none-any.whl\n",
            "Requirement already satisfied: futures>=3.1.1; python_version < \"3\" in /usr/local/lib/python2.7/dist-packages (from tensorflow-tensorboard<1.6.0,>=1.5.0->tensorflow==1.5) (3.2.0)\n",
            "Collecting html5lib==0.9999999\n",
            "\u001b[?25l  Downloading https://files.pythonhosted.org/packages/ae/ae/bcb60402c60932b32dfaf19bb53870b29eda2cd17551ba5639219fb5ebf9/html5lib-0.9999999.tar.gz (889kB)\n",
            "\u001b[K     |████████████████████████████████| 890kB 41.6MB/s \n",
            "\u001b[?25hRequirement already satisfied: werkzeug>=0.11.10 in /usr/local/lib/python2.7/dist-packages (from tensorflow-tensorboard<1.6.0,>=1.5.0->tensorflow==1.5) (0.15.5)\n",
            "Requirement already satisfied: markdown>=2.6.8 in /usr/local/lib/python2.7/dist-packages (from tensorflow-tensorboard<1.6.0,>=1.5.0->tensorflow==1.5) (3.1.1)\n",
            "Building wheels for collected packages: html5lib\n",
            "  Building wheel for html5lib (setup.py) ... \u001b[?25l\u001b[?25hdone\n",
            "  Created wheel for html5lib: filename=html5lib-0.9999999-cp27-none-any.whl size=107221 sha256=43a175eeadc303b46a234490813e81cf0621d742d6df14cf1cdecbafcc445de2\n",
            "  Stored in directory: /root/.cache/pip/wheels/50/ae/f9/d2b189788efcf61d1ee0e36045476735c838898eef1cad6e29\n",
            "Successfully built html5lib\n",
            "\u001b[31mERROR: fastai 0.7.0 has requirement torch<0.4, but you'll have torch 1.4.0 which is incompatible.\u001b[0m\n",
            "Installing collected packages: html5lib, bleach, tensorflow-tensorboard, tensorflow\n",
            "  Found existing installation: html5lib 1.0.1\n",
            "    Uninstalling html5lib-1.0.1:\n",
            "      Successfully uninstalled html5lib-1.0.1\n",
            "  Found existing installation: bleach 3.1.0\n",
            "    Uninstalling bleach-3.1.0:\n",
            "      Successfully uninstalled bleach-3.1.0\n",
            "Successfully installed bleach-1.5.0 html5lib-0.9999999 tensorflow-1.5.0 tensorflow-tensorboard-1.5.1\n"
          ],
          "name": "stdout"
        }
      ]
    },
    {
      "cell_type": "code",
      "metadata": {
        "deletable": true,
        "editable": true,
        "id": "SSkDGH_pwXIM",
        "colab_type": "code",
        "colab": {}
      },
      "source": [
        "# To support both python 2 and python 3\n",
        "from __future__ import division, print_function, unicode_literals\n",
        "\n",
        "import numpy as np\n",
        "import tensorflow as tf\n",
        "import sys\n",
        "\n",
        "from tensorflow.examples.tutorials.mnist import input_data"
      ],
      "execution_count": 0,
      "outputs": []
    },
    {
      "cell_type": "markdown",
      "metadata": {
        "deletable": true,
        "editable": true,
        "id": "5lGqunPSwXJ2",
        "colab_type": "text"
      },
      "source": [
        "### To plot pretty figures inline in the notebook"
      ]
    },
    {
      "cell_type": "code",
      "metadata": {
        "deletable": true,
        "editable": true,
        "id": "XzNHTBRCwXKE",
        "colab_type": "code",
        "colab": {}
      },
      "source": [
        "%matplotlib inline\n",
        "import matplotlib\n",
        "import matplotlib.pyplot as plt"
      ],
      "execution_count": 0,
      "outputs": []
    },
    {
      "cell_type": "code",
      "metadata": {
        "deletable": true,
        "editable": true,
        "id": "wIHJSymSwXK3",
        "colab_type": "code",
        "colab": {
          "base_uri": "https://localhost:8080/",
          "height": 69
        },
        "outputId": "0422f456-bb1e-40b6-eec9-67cb14d3ee56"
      },
      "source": [
        "print(tf.__version__)\n",
        "print(np.__version__)\n",
        "print(matplotlib.__version__)"
      ],
      "execution_count": 5,
      "outputs": [
        {
          "output_type": "stream",
          "text": [
            "1.5.0\n",
            "1.16.4\n",
            "2.2.4\n"
          ],
          "name": "stdout"
        }
      ]
    },
    {
      "cell_type": "markdown",
      "metadata": {
        "deletable": true,
        "editable": true,
        "id": "GR9U41xxwXLl",
        "colab_type": "text"
      },
      "source": [
        "### Store the MNIST data in \"mnist_data/\" in the current working directory"
      ]
    },
    {
      "cell_type": "code",
      "metadata": {
        "deletable": true,
        "editable": true,
        "id": "2UyH7_5swXLt",
        "colab_type": "code",
        "colab": {
          "base_uri": "https://localhost:8080/",
          "height": 156
        },
        "outputId": "fef06407-f5a9-4b8d-c4d5-e88f7c67250b"
      },
      "source": [
        "mnist = input_data.read_data_sets(\"mnist_data/\")"
      ],
      "execution_count": 6,
      "outputs": [
        {
          "output_type": "stream",
          "text": [
            "Successfully downloaded train-images-idx3-ubyte.gz 9912422 bytes.\n",
            "Extracting mnist_data/train-images-idx3-ubyte.gz\n",
            "Successfully downloaded train-labels-idx1-ubyte.gz 28881 bytes.\n",
            "Extracting mnist_data/train-labels-idx1-ubyte.gz\n",
            "Successfully downloaded t10k-images-idx3-ubyte.gz 1648877 bytes.\n",
            "Extracting mnist_data/t10k-images-idx3-ubyte.gz\n",
            "Successfully downloaded t10k-labels-idx1-ubyte.gz 4542 bytes.\n",
            "Extracting mnist_data/t10k-labels-idx1-ubyte.gz\n"
          ],
          "name": "stdout"
        }
      ]
    },
    {
      "cell_type": "markdown",
      "metadata": {
        "deletable": true,
        "editable": true,
        "id": "wjzKl8b_wXMU",
        "colab_type": "text"
      },
      "source": [
        "### Result the default graph so you can have a fresh run"
      ]
    },
    {
      "cell_type": "code",
      "metadata": {
        "deletable": true,
        "editable": true,
        "id": "2ISl_G0kwXMZ",
        "colab_type": "code",
        "colab": {}
      },
      "source": [
        "tf.reset_default_graph()"
      ],
      "execution_count": 0,
      "outputs": []
    },
    {
      "cell_type": "markdown",
      "metadata": {
        "deletable": true,
        "editable": true,
        "id": "fO1RmFlQwXNG",
        "colab_type": "text"
      },
      "source": [
        "### Displays a digit inline on screen\n",
        "* Takes in a 1-D array of 784 pixels representing an image"
      ]
    },
    {
      "cell_type": "code",
      "metadata": {
        "deletable": true,
        "editable": true,
        "id": "iP7ttyc0wXNR",
        "colab_type": "code",
        "colab": {}
      },
      "source": [
        "def display_digit(digit):\n",
        "    plt.imshow(digit.reshape(28, 28), cmap=\"Greys\", interpolation='nearest')"
      ],
      "execution_count": 0,
      "outputs": []
    },
    {
      "cell_type": "markdown",
      "metadata": {
        "id": "omzjOWHFwXNu",
        "colab_type": "text"
      },
      "source": [
        "### Pass in 2 test images and see how they are reconstructed using the Autoencoder\n",
        "\n",
        "* Reconstructs the session using the saved model\n",
        "* Sets up the plot to display the original and reconstructed image side-by-side"
      ]
    },
    {
      "cell_type": "code",
      "metadata": {
        "deletable": true,
        "editable": true,
        "id": "jxHIHmYvwXN1",
        "colab_type": "code",
        "colab": {}
      },
      "source": [
        "def show_reconstructed_digits(X, outputs, model_path = None, num_digits = 2):\n",
        "    with tf.Session() as sess:\n",
        "        if model_path:\n",
        "            saver.restore(sess, model_path)\n",
        "        X_test = mnist.test.images[10 : 10 + num_digits]\n",
        "        outputs_val = outputs.eval(feed_dict={X: X_test})\n",
        "\n",
        "    fig = plt.figure(figsize=(8, 3 * num_digits))\n",
        "    for i in range(num_digits):\n",
        "        plt.subplot(num_digits, 2, i * 2 + 1)\n",
        "        display_digit(X_test[i])\n",
        "        plt.subplot(num_digits, 2, i * 2 + 2)\n",
        "        display_digit(outputs_val[i])"
      ],
      "execution_count": 0,
      "outputs": []
    },
    {
      "cell_type": "markdown",
      "metadata": {
        "deletable": true,
        "editable": true,
        "id": "pIAqn-lewXOT",
        "colab_type": "text"
      },
      "source": [
        "### Build a stacked denoising autoencoder with 3 hidden layers\n",
        "   * Number of inputs are 28 * 28 = 784, the number of pixels in any MNIST image\n",
        "   * The hidden layers are symmetric and get progressively narrower\n",
        "   * The narrowest layer is the codings\n",
        "   * The number of inputs is equal to the number of outputs "
      ]
    },
    {
      "cell_type": "code",
      "metadata": {
        "deletable": true,
        "editable": true,
        "id": "_Q5D8cP2wXOa",
        "colab_type": "code",
        "colab": {}
      },
      "source": [
        "n_inputs = 28 * 28\n",
        "n_hidden1 = 300\n",
        "n_hidden2 = 150  # codings\n",
        "n_hidden3 = n_hidden1\n",
        "n_outputs = n_inputs"
      ],
      "execution_count": 0,
      "outputs": []
    },
    {
      "cell_type": "markdown",
      "metadata": {
        "deletable": true,
        "editable": true,
        "id": "XXz-HZZSwXO3",
        "colab_type": "text"
      },
      "source": [
        "### Use Gaussian noise\n",
        "\n",
        "Some noise is added to every input image"
      ]
    },
    {
      "cell_type": "code",
      "metadata": {
        "deletable": true,
        "editable": true,
        "id": "BF5gaH3FwXO_",
        "colab_type": "code",
        "colab": {}
      },
      "source": [
        "# Change this noise level to 0.5 and see that it performs better\n",
        "noise_level = 1.0\n",
        "\n",
        "X = tf.placeholder(tf.float32, shape=[None, n_inputs])\n",
        "X_noisy = X + noise_level * tf.random_normal(tf.shape(X))"
      ],
      "execution_count": 0,
      "outputs": []
    },
    {
      "cell_type": "markdown",
      "metadata": {
        "id": "E3ba8mjjwXPc",
        "colab_type": "text"
      },
      "source": [
        "### Set up layers of the Autoencoder neural network\n",
        "\n",
        "* We use a partial specification for tf.layers.dense to make it easier to read the code\n",
        "* We use the RELU activation function\n",
        "* The last layer does not have an activation function"
      ]
    },
    {
      "cell_type": "code",
      "metadata": {
        "deletable": true,
        "editable": true,
        "id": "74FYdAygwXPf",
        "colab_type": "code",
        "colab": {}
      },
      "source": [
        "from functools import partial\n",
        "\n",
        "dense_layer = partial(tf.layers.dense,\n",
        "                      activation=tf.nn.relu)\n",
        "\n",
        "hidden1 = dense_layer(X_noisy, n_hidden1)\n",
        "hidden2 = dense_layer(hidden1, n_hidden2)\n",
        "hidden3 = dense_layer(hidden2, n_hidden3)\n",
        "outputs = dense_layer(hidden3, n_outputs, activation=None)"
      ],
      "execution_count": 0,
      "outputs": []
    },
    {
      "cell_type": "markdown",
      "metadata": {
        "id": "i9xJy2IIwXP7",
        "colab_type": "text"
      },
      "source": [
        "### Set up the loss function and the optimizer"
      ]
    },
    {
      "cell_type": "code",
      "metadata": {
        "deletable": true,
        "editable": true,
        "id": "ujVINZbJwXQJ",
        "colab_type": "code",
        "colab": {}
      },
      "source": [
        "reconstruction_loss = tf.reduce_mean(tf.square(outputs - X))\n",
        "\n",
        "optimizer = tf.train.AdamOptimizer(0.01)\n",
        "training_op = optimizer.minimize(reconstruction_loss)\n",
        "\n",
        "init = tf.global_variables_initializer()\n",
        "saver = tf.train.Saver() "
      ],
      "execution_count": 0,
      "outputs": []
    },
    {
      "cell_type": "markdown",
      "metadata": {
        "id": "a7YWQIf1wXQq",
        "colab_type": "text"
      },
      "source": [
        "### Train the model using training data\n",
        "\n",
        "* Note that we do not use the labels from each MNIST batch\n",
        "* At the end of each epoch write the model out to a checkpoint"
      ]
    },
    {
      "cell_type": "code",
      "metadata": {
        "deletable": true,
        "editable": true,
        "id": "eXcopgfVwXQu",
        "colab_type": "code",
        "colab": {
          "base_uri": "https://localhost:8080/",
          "height": 191
        },
        "outputId": "c0fffdab-4d7a-4a69-9f3b-8e5162bf53ff"
      },
      "source": [
        "n_epochs = 10\n",
        "batch_size = 150\n",
        "\n",
        "with tf.Session() as sess:\n",
        "    init.run()\n",
        "    for epoch in range(n_epochs):\n",
        "        n_batches = mnist.train.num_examples // batch_size\n",
        "\n",
        "        for iteration in range(n_batches):\n",
        "            X_batch, _ = mnist.train.next_batch(batch_size)\n",
        "            sess.run(training_op, feed_dict={X: X_batch})\n",
        "\n",
        "        loss_train = reconstruction_loss.eval(feed_dict={X: X_batch})   \n",
        "        print(\"\\r{}\".format(epoch), \"Train MSE:\", loss_train)\n",
        "\n",
        "        saver.save(sess, \"./stacked_denoising_gaussian_autoencoder.ckpt\")"
      ],
      "execution_count": 14,
      "outputs": [
        {
          "output_type": "stream",
          "text": [
            "0 Train MSE: 0.04391551\n",
            "1 Train MSE: 0.04169911\n",
            "2 Train MSE: 0.040682323\n",
            "3 Train MSE: 0.040315796\n",
            "4 Train MSE: 0.03783439\n",
            "5 Train MSE: 0.041710526\n",
            "6 Train MSE: 0.041438546\n",
            "7 Train MSE: 0.04018763\n",
            "8 Train MSE: 0.039867595\n",
            "9 Train MSE: 0.040173933\n"
          ],
          "name": "stdout"
        }
      ]
    },
    {
      "cell_type": "code",
      "metadata": {
        "deletable": true,
        "editable": true,
        "id": "G5b5yJLrwXRP",
        "colab_type": "code",
        "colab": {
          "base_uri": "https://localhost:8080/",
          "height": 395
        },
        "outputId": "a352dccc-f4ad-4079-dda6-786c35ff03fc"
      },
      "source": [
        "# Noise level 1.0\n",
        "show_reconstructed_digits(X, outputs, \"./stacked_denoising_gaussian_autoencoder.ckpt\")"
      ],
      "execution_count": 15,
      "outputs": [
        {
          "output_type": "stream",
          "text": [
            "INFO:tensorflow:Restoring parameters from ./stacked_denoising_gaussian_autoencoder.ckpt\n"
          ],
          "name": "stdout"
        },
        {
          "output_type": "display_data",
          "data": {
            "image/png": "[encoded data removed]",
            "text/plain": [
              "<Figure size 576x432 with 4 Axes>"
            ]
          },
          "metadata": {
            "tags": [],
            "needs_background": "light"
          }
        }
      ]
    },
    {
      "cell_type": "code",
      "metadata": {
        "deletable": true,
        "editable": true,
        "id": "75tbmpH0wXRt",
        "colab_type": "code",
        "colab": {
          "base_uri": "https://localhost:8080/",
          "height": 395
        },
        "outputId": "2d1ce504-1eb8-43f3-855d-53bb898b4832"
      },
      "source": [
        "# Noise level 0.5\n",
        "show_reconstructed_digits(X, outputs, \"./stacked_denoising_gaussian_autoencoder.ckpt\")"
      ],
      "execution_count": 16,
      "outputs": [
        {
          "output_type": "stream",
          "text": [
            "INFO:tensorflow:Restoring parameters from ./stacked_denoising_gaussian_autoencoder.ckpt\n"
          ],
          "name": "stdout"
        },
        {
          "output_type": "display_data",
          "data": {
            "image/png": "[encoded data removed]",
            "text/plain": [
              "<Figure size 576x432 with 4 Axes>"
            ]
          },
          "metadata": {
            "tags": [],
            "needs_background": "light"
          }
        }
      ]
    },
    {
      "cell_type": "code",
      "metadata": {
        "deletable": true,
        "editable": true,
        "id": "-1RkMZhkwXSD",
        "colab_type": "code",
        "colab": {}
      },
      "source": [
        ""
      ],
      "execution_count": 0,
      "outputs": []
    }
  ]
}