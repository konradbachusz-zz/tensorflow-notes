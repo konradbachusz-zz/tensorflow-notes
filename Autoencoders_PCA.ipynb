{
  "nbformat": 4,
  "nbformat_minor": 0,
  "metadata": {
    "kernelspec": {
      "display_name": "Python 2",
      "language": "python",
      "name": "python2"
    },
    "language_info": {
      "codemirror_mode": {
        "name": "ipython",
        "version": 2
      },
      "file_extension": ".py",
      "mimetype": "text/x-python",
      "name": "python",
      "nbconvert_exporter": "python",
      "pygments_lexer": "ipython2",
      "version": "2.7.11"
    },
    "colab": {
      "name": "Autoencoders_PCA.ipynb",
      "provenance": [],
      "collapsed_sections": [],
      "toc_visible": true,
      "include_colab_link": true
    }
  },
  "cells": [
    {
      "cell_type": "markdown",
      "metadata": {
        "id": "view-in-github",
        "colab_type": "text"
      },
      "source": [
        "<a href=\"https://colab.research.google.com/github/konradbachusz/tensorflow-notes/blob/master/Autoencoders_PCA.ipynb\" target=\"_parent\"><img src=\"https://colab.research.google.com/assets/colab-badge.svg\" alt=\"Open In Colab\"/></a>"
      ]
    },
    {
      "cell_type": "markdown",
      "metadata": {
        "deletable": true,
        "editable": true,
        "id": "QbQu1Y-qojKZ",
        "colab_type": "text"
      },
      "source": [
        "# PCA with matplotlib and Autoencoders"
      ]
    },
    {
      "cell_type": "code",
      "metadata": {
        "id": "j8W2eu5Ro9_S",
        "colab_type": "code",
        "colab": {
          "base_uri": "https://localhost:8080/",
          "height": 260
        },
        "outputId": "bbdf09ad-5f79-491e-b752-7a960e68ec03"
      },
      "source": [
        "!pip uninstall tensorflow"
      ],
      "execution_count": 1,
      "outputs": [
        {
          "output_type": "stream",
          "text": [
            "Uninstalling tensorflow-2.1.0:\n",
            "  Would remove:\n",
            "    /usr/local/bin/estimator_ckpt_converter\n",
            "    /usr/local/bin/saved_model_cli\n",
            "    /usr/local/bin/tensorboard\n",
            "    /usr/local/bin/tf_upgrade_v2\n",
            "    /usr/local/bin/tflite_convert\n",
            "    /usr/local/bin/toco\n",
            "    /usr/local/bin/toco_from_protos\n",
            "    /usr/local/lib/python2.7/dist-packages/tensorflow-2.1.0.dist-info/*\n",
            "    /usr/local/lib/python2.7/dist-packages/tensorflow/*\n",
            "    /usr/local/lib/python2.7/dist-packages/tensorflow_core/*\n",
            "Proceed (y/n)? y\n",
            "  Successfully uninstalled tensorflow-2.1.0\n"
          ],
          "name": "stdout"
        }
      ]
    },
    {
      "cell_type": "code",
      "metadata": {
        "id": "MSgSfS-3o92w",
        "colab_type": "code",
        "colab": {
          "base_uri": "https://localhost:8080/",
          "height": 714
        },
        "outputId": "8b42ad9f-02ac-4059-8f20-bff63f498777"
      },
      "source": [
        "!pip install tensorflow==1.5"
      ],
      "execution_count": 2,
      "outputs": [
        {
          "output_type": "stream",
          "text": [
            "Collecting tensorflow==1.5\n",
            "\u001b[?25l  Downloading https://files.pythonhosted.org/packages/69/6d/09d4fbeedbafbc6768a94901f14ace4153adba4c2e2c6e6f2080f4a5d1a7/tensorflow-1.5.0-cp27-cp27mu-manylinux1_x86_64.whl (44.4MB)\n",
            "\u001b[K     |████████████████████████████████| 44.4MB 96kB/s \n",
            "\u001b[?25hRequirement already satisfied: mock>=2.0.0 in /usr/local/lib/python2.7/dist-packages (from tensorflow==1.5) (2.0.0)\n",
            "Requirement already satisfied: protobuf>=3.4.0 in /usr/local/lib/python2.7/dist-packages (from tensorflow==1.5) (3.8.0)\n",
            "Requirement already satisfied: wheel in /usr/local/lib/python2.7/dist-packages (from tensorflow==1.5) (0.34.2)\n",
            "Requirement already satisfied: absl-py>=0.1.6 in /usr/local/lib/python2.7/dist-packages (from tensorflow==1.5) (0.7.1)\n",
            "Requirement already satisfied: backports.weakref>=1.0rc1 in /usr/local/lib/python2.7/dist-packages (from tensorflow==1.5) (1.0.post1)\n",
            "Requirement already satisfied: enum34>=1.1.6 in /usr/local/lib/python2.7/dist-packages (from tensorflow==1.5) (1.1.6)\n",
            "Requirement already satisfied: six>=1.10.0 in /usr/local/lib/python2.7/dist-packages (from tensorflow==1.5) (1.12.0)\n",
            "Requirement already satisfied: numpy>=1.12.1 in /usr/local/lib/python2.7/dist-packages (from tensorflow==1.5) (1.16.4)\n",
            "Collecting tensorflow-tensorboard<1.6.0,>=1.5.0\n",
            "\u001b[?25l  Downloading https://files.pythonhosted.org/packages/cd/ba/d664f7c27c710063b1cdfa0309db8fba98952e3a1ba1991ed98efffe69ed/tensorflow_tensorboard-1.5.1-py2-none-any.whl (3.0MB)\n",
            "\u001b[K     |████████████████████████████████| 3.0MB 40.0MB/s \n",
            "\u001b[?25hRequirement already satisfied: funcsigs>=1; python_version < \"3.3\" in /usr/local/lib/python2.7/dist-packages (from mock>=2.0.0->tensorflow==1.5) (1.0.2)\n",
            "Requirement already satisfied: pbr>=0.11 in /usr/local/lib/python2.7/dist-packages (from mock>=2.0.0->tensorflow==1.5) (5.4.0)\n",
            "Requirement already satisfied: setuptools in /usr/local/lib/python2.7/dist-packages (from protobuf>=3.4.0->tensorflow==1.5) (44.1.0)\n",
            "Collecting bleach==1.5.0\n",
            "  Downloading https://files.pythonhosted.org/packages/33/70/86c5fec937ea4964184d4d6c4f0b9551564f821e1c3575907639036d9b90/bleach-1.5.0-py2.py3-none-any.whl\n",
            "Requirement already satisfied: futures>=3.1.1; python_version < \"3\" in /usr/local/lib/python2.7/dist-packages (from tensorflow-tensorboard<1.6.0,>=1.5.0->tensorflow==1.5) (3.2.0)\n",
            "Collecting html5lib==0.9999999\n",
            "\u001b[?25l  Downloading https://files.pythonhosted.org/packages/ae/ae/bcb60402c60932b32dfaf19bb53870b29eda2cd17551ba5639219fb5ebf9/html5lib-0.9999999.tar.gz (889kB)\n",
            "\u001b[K     |████████████████████████████████| 890kB 38.5MB/s \n",
            "\u001b[?25hRequirement already satisfied: werkzeug>=0.11.10 in /usr/local/lib/python2.7/dist-packages (from tensorflow-tensorboard<1.6.0,>=1.5.0->tensorflow==1.5) (0.15.5)\n",
            "Requirement already satisfied: markdown>=2.6.8 in /usr/local/lib/python2.7/dist-packages (from tensorflow-tensorboard<1.6.0,>=1.5.0->tensorflow==1.5) (3.1.1)\n",
            "Building wheels for collected packages: html5lib\n",
            "  Building wheel for html5lib (setup.py) ... \u001b[?25l\u001b[?25hdone\n",
            "  Created wheel for html5lib: filename=html5lib-0.9999999-cp27-none-any.whl size=107221 sha256=d751ed85c9576e37ef7894c15d6f648af7bb42167fa4f30a5f330d1541469e02\n",
            "  Stored in directory: /root/.cache/pip/wheels/50/ae/f9/d2b189788efcf61d1ee0e36045476735c838898eef1cad6e29\n",
            "Successfully built html5lib\n",
            "\u001b[31mERROR: fastai 0.7.0 has requirement torch<0.4, but you'll have torch 1.4.0 which is incompatible.\u001b[0m\n",
            "Installing collected packages: html5lib, bleach, tensorflow-tensorboard, tensorflow\n",
            "  Found existing installation: html5lib 1.0.1\n",
            "    Uninstalling html5lib-1.0.1:\n",
            "      Successfully uninstalled html5lib-1.0.1\n",
            "  Found existing installation: bleach 3.1.0\n",
            "    Uninstalling bleach-3.1.0:\n",
            "      Successfully uninstalled bleach-3.1.0\n",
            "Successfully installed bleach-1.5.0 html5lib-0.9999999 tensorflow-1.5.0 tensorflow-tensorboard-1.5.1\n"
          ],
          "name": "stdout"
        }
      ]
    },
    {
      "cell_type": "code",
      "metadata": {
        "deletable": true,
        "editable": true,
        "id": "ZU-OumgpojKm",
        "colab_type": "code",
        "colab": {}
      },
      "source": [
        "# To support both python 2 and python 3\n",
        "from __future__ import division, print_function, unicode_literals\n",
        "\n",
        "import numpy as np\n",
        "import pandas as pd\n",
        "import tensorflow as tf"
      ],
      "execution_count": 0,
      "outputs": []
    },
    {
      "cell_type": "markdown",
      "metadata": {
        "deletable": true,
        "editable": true,
        "id": "CWgTn27EojNq",
        "colab_type": "text"
      },
      "source": [
        "### To plot pretty figures inline in the notebook"
      ]
    },
    {
      "cell_type": "code",
      "metadata": {
        "deletable": true,
        "editable": true,
        "id": "1uaXry0rojN0",
        "colab_type": "code",
        "colab": {}
      },
      "source": [
        "%matplotlib inline\n",
        "import matplotlib\n",
        "import matplotlib.pyplot as plt\n",
        "\n",
        "from matplotlib.mlab import PCA"
      ],
      "execution_count": 0,
      "outputs": []
    },
    {
      "cell_type": "code",
      "metadata": {
        "deletable": true,
        "editable": true,
        "id": "-q5HegjRojOg",
        "colab_type": "code",
        "colab": {
          "base_uri": "https://localhost:8080/",
          "height": 86
        },
        "outputId": "b8edc74d-8551-4a06-9219-0136e9beec6b"
      },
      "source": [
        "print(tf.__version__)\n",
        "print(np.__version__)\n",
        "print(pd.__version__)\n",
        "print(matplotlib.__version__)"
      ],
      "execution_count": 5,
      "outputs": [
        {
          "output_type": "stream",
          "text": [
            "1.5.0\n",
            "1.16.4\n",
            "0.24.2\n",
            "2.2.4\n"
          ],
          "name": "stdout"
        }
      ]
    },
    {
      "cell_type": "markdown",
      "metadata": {
        "deletable": true,
        "editable": true,
        "id": "CPyo67jGojQy",
        "colab_type": "text"
      },
      "source": [
        "### Read in stocks data from the directory data/stocks.csv\n",
        "\n",
        "A link where this CSV file can be downloaded is here: https://goo.gl/PUiiQv\n",
        "\n",
        "* This is data for the monthly closing price of 10 stocks over a 10 year period. \n",
        "* There are 12 * 10 = 120 rows in this dataset and 10 columns, one for each stock\n",
        "* The original CSV files has a header row and an additional first column to hold the date - we'll leave these out when we convert this to a matrix to do a PCA"
      ]
    },
    {
      "cell_type": "code",
      "metadata": {
        "deletable": true,
        "editable": true,
        "id": "vrVVu9JaojRB",
        "colab_type": "code",
        "colab": {
          "base_uri": "https://localhost:8080/",
          "height": 206
        },
        "outputId": "68dbdf8f-60e2-4d24-ce9c-da3af8e738f3"
      },
      "source": [
        "prices = pd.read_csv('stocks.csv')\n",
        "prices.head()"
      ],
      "execution_count": 6,
      "outputs": [
        {
          "output_type": "execute_result",
          "data": {
            "text/plain": [
              "       Date        AAPL        ADBE  ...        NFLX       ORCL       SBUX\n",
              "0  3-Jan-17  121.104935  113.820000  ...  141.220001  40.230000  55.649239\n",
              "1  1-Dec-16  115.320023  102.949997  ...  123.800003  38.299999  55.270943\n",
              "2  1-Nov-16  110.042900  102.809998  ...  117.000000  40.033211  57.709953\n",
              "3  3-Oct-16  112.472404  107.510002  ...  124.870003  38.270115  52.588333\n",
              "4  1-Sep-16  111.987015  108.540001  ...   98.550003  38.975769  53.648621\n",
              "\n",
              "[5 rows x 11 columns]"
            ],
            "text/html": [
              "<div>\n",
              "<style scoped>\n",
              "    .dataframe tbody tr th:only-of-type {\n",
              "        vertical-align: middle;\n",
              "    }\n",
              "\n",
              "    .dataframe tbody tr th {\n",
              "        vertical-align: top;\n",
              "    }\n",
              "\n",
              "    .dataframe thead th {\n",
              "        text-align: right;\n",
              "    }\n",
              "</style>\n",
              "<table border=\"1\" class=\"dataframe\">\n",
              "  <thead>\n",
              "    <tr style=\"text-align: right;\">\n",
              "      <th></th>\n",
              "      <th>Date</th>\n",
              "      <th>AAPL</th>\n",
              "      <th>ADBE</th>\n",
              "      <th>CVX</th>\n",
              "      <th>GOOG</th>\n",
              "      <th>IBM</th>\n",
              "      <th>MDLZ</th>\n",
              "      <th>MSFT</th>\n",
              "      <th>NFLX</th>\n",
              "      <th>ORCL</th>\n",
              "      <th>SBUX</th>\n",
              "    </tr>\n",
              "  </thead>\n",
              "  <tbody>\n",
              "    <tr>\n",
              "      <th>0</th>\n",
              "      <td>3-Jan-17</td>\n",
              "      <td>121.104935</td>\n",
              "      <td>113.820000</td>\n",
              "      <td>110.759811</td>\n",
              "      <td>823.830017</td>\n",
              "      <td>174.420883</td>\n",
              "      <td>44.430000</td>\n",
              "      <td>64.737526</td>\n",
              "      <td>141.220001</td>\n",
              "      <td>40.230000</td>\n",
              "      <td>55.649239</td>\n",
              "    </tr>\n",
              "    <tr>\n",
              "      <th>1</th>\n",
              "      <td>1-Dec-16</td>\n",
              "      <td>115.320023</td>\n",
              "      <td>102.949997</td>\n",
              "      <td>116.584061</td>\n",
              "      <td>792.450012</td>\n",
              "      <td>164.687836</td>\n",
              "      <td>44.330002</td>\n",
              "      <td>61.765545</td>\n",
              "      <td>123.800003</td>\n",
              "      <td>38.299999</td>\n",
              "      <td>55.270943</td>\n",
              "    </tr>\n",
              "    <tr>\n",
              "      <th>2</th>\n",
              "      <td>1-Nov-16</td>\n",
              "      <td>110.042900</td>\n",
              "      <td>102.809998</td>\n",
              "      <td>110.502274</td>\n",
              "      <td>775.880005</td>\n",
              "      <td>160.947403</td>\n",
              "      <td>41.066032</td>\n",
              "      <td>59.896873</td>\n",
              "      <td>117.000000</td>\n",
              "      <td>40.033211</td>\n",
              "      <td>57.709953</td>\n",
              "    </tr>\n",
              "    <tr>\n",
              "      <th>3</th>\n",
              "      <td>3-Oct-16</td>\n",
              "      <td>112.472404</td>\n",
              "      <td>107.510002</td>\n",
              "      <td>102.728424</td>\n",
              "      <td>809.900024</td>\n",
              "      <td>151.113403</td>\n",
              "      <td>44.750420</td>\n",
              "      <td>59.159267</td>\n",
              "      <td>124.870003</td>\n",
              "      <td>38.270115</td>\n",
              "      <td>52.588333</td>\n",
              "    </tr>\n",
              "    <tr>\n",
              "      <th>4</th>\n",
              "      <td>1-Sep-16</td>\n",
              "      <td>111.987015</td>\n",
              "      <td>108.540001</td>\n",
              "      <td>100.933739</td>\n",
              "      <td>804.059998</td>\n",
              "      <td>156.186905</td>\n",
              "      <td>43.714809</td>\n",
              "      <td>56.868721</td>\n",
              "      <td>98.550003</td>\n",
              "      <td>38.975769</td>\n",
              "      <td>53.648621</td>\n",
              "    </tr>\n",
              "  </tbody>\n",
              "</table>\n",
              "</div>"
            ]
          },
          "metadata": {
            "tags": []
          },
          "execution_count": 6
        }
      ]
    },
    {
      "cell_type": "markdown",
      "metadata": {
        "deletable": true,
        "editable": true,
        "id": "4kuQ94omojTb",
        "colab_type": "text"
      },
      "source": [
        "### Sort the prices data by date\n",
        "\n",
        "* We're going to work with stock returns and not prices because they tend to be stationery when calculated across years (returns from 2007 can be compared to returns from 2016 even of the stock prices may have changed)\n",
        "* Returns are the percentage change in the price of the stock from the previous close\n",
        "* Sort the prices by dates in preparation for calculating returns\n",
        "* We'll work with just 3 inputs i.e. 3 stocks AAPL, GOOG and NFLX. Try this same code out with more stocks as practice!"
      ]
    },
    {
      "cell_type": "code",
      "metadata": {
        "deletable": true,
        "editable": true,
        "id": "8OItVlYgojT4",
        "colab_type": "code",
        "colab": {
          "base_uri": "https://localhost:8080/",
          "height": 206
        },
        "outputId": "fa9d47ec-ee5d-4a75-eb85-88a71318d570"
      },
      "source": [
        "prices['Date'] = pd.to_datetime(prices['Date'], infer_datetime_format=True)\n",
        "prices = prices.sort_values(['Date'], ascending=[True])\n",
        "\n",
        "prices = prices[['AAPL', 'GOOG', 'NFLX']]\n",
        "prices.head()"
      ],
      "execution_count": 7,
      "outputs": [
        {
          "output_type": "execute_result",
          "data": {
            "text/plain": [
              "          AAPL        GOOG      NFLX\n",
              "120  11.107141  251.001007  3.258571\n",
              "119  10.962033  224.949951  3.218571\n",
              "118  12.037377  229.309311  3.312857\n",
              "117  12.930043  235.925919  3.167143\n",
              "116  15.701322  249.204208  3.128572"
            ],
            "text/html": [
              "<div>\n",
              "<style scoped>\n",
              "    .dataframe tbody tr th:only-of-type {\n",
              "        vertical-align: middle;\n",
              "    }\n",
              "\n",
              "    .dataframe tbody tr th {\n",
              "        vertical-align: top;\n",
              "    }\n",
              "\n",
              "    .dataframe thead th {\n",
              "        text-align: right;\n",
              "    }\n",
              "</style>\n",
              "<table border=\"1\" class=\"dataframe\">\n",
              "  <thead>\n",
              "    <tr style=\"text-align: right;\">\n",
              "      <th></th>\n",
              "      <th>AAPL</th>\n",
              "      <th>GOOG</th>\n",
              "      <th>NFLX</th>\n",
              "    </tr>\n",
              "  </thead>\n",
              "  <tbody>\n",
              "    <tr>\n",
              "      <th>120</th>\n",
              "      <td>11.107141</td>\n",
              "      <td>251.001007</td>\n",
              "      <td>3.258571</td>\n",
              "    </tr>\n",
              "    <tr>\n",
              "      <th>119</th>\n",
              "      <td>10.962033</td>\n",
              "      <td>224.949951</td>\n",
              "      <td>3.218571</td>\n",
              "    </tr>\n",
              "    <tr>\n",
              "      <th>118</th>\n",
              "      <td>12.037377</td>\n",
              "      <td>229.309311</td>\n",
              "      <td>3.312857</td>\n",
              "    </tr>\n",
              "    <tr>\n",
              "      <th>117</th>\n",
              "      <td>12.930043</td>\n",
              "      <td>235.925919</td>\n",
              "      <td>3.167143</td>\n",
              "    </tr>\n",
              "    <tr>\n",
              "      <th>116</th>\n",
              "      <td>15.701322</td>\n",
              "      <td>249.204208</td>\n",
              "      <td>3.128572</td>\n",
              "    </tr>\n",
              "  </tbody>\n",
              "</table>\n",
              "</div>"
            ]
          },
          "metadata": {
            "tags": []
          },
          "execution_count": 7
        }
      ]
    },
    {
      "cell_type": "markdown",
      "metadata": {
        "deletable": true,
        "editable": true,
        "id": "cgnAGRAsojUm",
        "colab_type": "text"
      },
      "source": [
        "### Calculate returns\n",
        "\n",
        "* The pct_change() function in pandas does this automatically for you, apply this only to numeric columns\n",
        "* Leave out the first row (with the earliest date) because no returns will be calculated for it"
      ]
    },
    {
      "cell_type": "code",
      "metadata": {
        "deletable": true,
        "editable": true,
        "id": "AUauSQwhojVF",
        "colab_type": "code",
        "colab": {
          "base_uri": "https://localhost:8080/",
          "height": 206
        },
        "outputId": "003f64dd-076e-45db-a8f3-ccfaa8d437d9"
      },
      "source": [
        "returns = prices[[key for key in dict(prices.dtypes) if dict(prices.dtypes)[key] in ['float64', 'int64']]].pct_change()\n",
        "returns = returns[1:]\n",
        "returns.head()"
      ],
      "execution_count": 8,
      "outputs": [
        {
          "output_type": "execute_result",
          "data": {
            "text/plain": [
              "         GOOG      AAPL      NFLX\n",
              "119 -0.103789 -0.013064 -0.012275\n",
              "118  0.019379  0.098097  0.029294\n",
              "117  0.028855  0.074158 -0.043984\n",
              "116  0.056282  0.214329 -0.012178\n",
              "115  0.049788  0.007014 -0.114612"
            ],
            "text/html": [
              "<div>\n",
              "<style scoped>\n",
              "    .dataframe tbody tr th:only-of-type {\n",
              "        vertical-align: middle;\n",
              "    }\n",
              "\n",
              "    .dataframe tbody tr th {\n",
              "        vertical-align: top;\n",
              "    }\n",
              "\n",
              "    .dataframe thead th {\n",
              "        text-align: right;\n",
              "    }\n",
              "</style>\n",
              "<table border=\"1\" class=\"dataframe\">\n",
              "  <thead>\n",
              "    <tr style=\"text-align: right;\">\n",
              "      <th></th>\n",
              "      <th>GOOG</th>\n",
              "      <th>AAPL</th>\n",
              "      <th>NFLX</th>\n",
              "    </tr>\n",
              "  </thead>\n",
              "  <tbody>\n",
              "    <tr>\n",
              "      <th>119</th>\n",
              "      <td>-0.103789</td>\n",
              "      <td>-0.013064</td>\n",
              "      <td>-0.012275</td>\n",
              "    </tr>\n",
              "    <tr>\n",
              "      <th>118</th>\n",
              "      <td>0.019379</td>\n",
              "      <td>0.098097</td>\n",
              "      <td>0.029294</td>\n",
              "    </tr>\n",
              "    <tr>\n",
              "      <th>117</th>\n",
              "      <td>0.028855</td>\n",
              "      <td>0.074158</td>\n",
              "      <td>-0.043984</td>\n",
              "    </tr>\n",
              "    <tr>\n",
              "      <th>116</th>\n",
              "      <td>0.056282</td>\n",
              "      <td>0.214329</td>\n",
              "      <td>-0.012178</td>\n",
              "    </tr>\n",
              "    <tr>\n",
              "      <th>115</th>\n",
              "      <td>0.049788</td>\n",
              "      <td>0.007014</td>\n",
              "      <td>-0.114612</td>\n",
              "    </tr>\n",
              "  </tbody>\n",
              "</table>\n",
              "</div>"
            ]
          },
          "metadata": {
            "tags": []
          },
          "execution_count": 8
        }
      ]
    },
    {
      "cell_type": "markdown",
      "metadata": {
        "deletable": true,
        "editable": true,
        "id": "U3PknG2oojVm",
        "colab_type": "text"
      },
      "source": [
        "### Choose a small part of this dataset\n",
        "\n",
        "*In order to make it easier to understand and follow the demo we choose only 20 rows from the dataset.*"
      ]
    },
    {
      "cell_type": "code",
      "metadata": {
        "deletable": true,
        "editable": true,
        "id": "giA4g56wojVv",
        "colab_type": "code",
        "colab": {
          "base_uri": "https://localhost:8080/",
          "height": 89
        },
        "outputId": "7272e363-c1c1-403f-e87c-25ea2f8e7ea8"
      },
      "source": [
        "returns_arr = returns.as_matrix()[:20]\n",
        "returns_arr.shape"
      ],
      "execution_count": 9,
      "outputs": [
        {
          "output_type": "stream",
          "text": [
            "/usr/local/lib/python2.7/dist-packages/ipykernel_launcher.py:1: FutureWarning: Method .as_matrix will be removed in a future version. Use .values instead.\n",
            "  \"\"\"Entry point for launching an IPython kernel.\n"
          ],
          "name": "stderr"
        },
        {
          "output_type": "execute_result",
          "data": {
            "text/plain": [
              "(20, 3)"
            ]
          },
          "metadata": {
            "tags": []
          },
          "execution_count": 9
        }
      ]
    },
    {
      "cell_type": "markdown",
      "metadata": {
        "deletable": true,
        "editable": true,
        "id": "r61bQv5zojWr",
        "colab_type": "text"
      },
      "source": [
        "### Scale all inputs\n",
        "\n",
        "PCA works better if the mean and variance of each input component is the same. Each of our inputs can be scaled to achieve this. Scaling the data involves:\n",
        "\n",
        "* Subtracting the mean for every point\n",
        "* Dividing by the variance\n",
        "\n",
        "Every point on the data set is now centered around 0 and has the same scale"
      ]
    },
    {
      "cell_type": "code",
      "metadata": {
        "deletable": true,
        "editable": true,
        "id": "_el4sEbdojW9",
        "colab_type": "code",
        "colab": {}
      },
      "source": [
        "from sklearn.preprocessing import StandardScaler\n",
        "scaler = StandardScaler()\n",
        "returns_arr_scaled = scaler.fit_transform(returns_arr)"
      ],
      "execution_count": 0,
      "outputs": []
    },
    {
      "cell_type": "code",
      "metadata": {
        "deletable": true,
        "editable": true,
        "id": "pIGswaRdojXv",
        "colab_type": "code",
        "colab": {
          "base_uri": "https://localhost:8080/",
          "height": 364
        },
        "outputId": "5f5003f3-08fa-4dc9-eef6-bcf650c82744"
      },
      "source": [
        "returns_arr_scaled"
      ],
      "execution_count": 11,
      "outputs": [
        {
          "output_type": "execute_result",
          "data": {
            "text/plain": [
              "array([[-0.83085735, -0.26570419, -0.27988663],\n",
              "       [ 0.19850401,  0.48183445,  0.05469668],\n",
              "       [ 0.27769246,  0.32084764, -0.53510448],\n",
              "       [ 0.50691119,  1.26346797, -0.27910722],\n",
              "       [ 0.45264219, -0.13068243, -1.10356751],\n",
              "       [-0.16651438,  0.35775408, -1.07769436],\n",
              "       [ 0.12257604,  0.16512878, -0.04561865],\n",
              "       [ 0.88031173,  0.55008778,  1.30278588],\n",
              "       [ 2.09513584,  1.4206431 ,  2.03764936],\n",
              "       [-0.1289488 , -0.45151408, -1.20580256],\n",
              "       [ 0.01821392,  0.40746153,  1.04538738],\n",
              "       [-1.50058206, -2.30718683, -0.62555009],\n",
              "       [-1.34257977, -0.69154794,  1.87670064],\n",
              "       [-0.50816289,  0.8161854 ,  0.60136016],\n",
              "       [ 2.57561617,  1.24912054, -0.80129032],\n",
              "       [ 0.20404444,  0.39430968, -0.58880849],\n",
              "       [-0.8106076 , -0.93708285, -1.31840651],\n",
              "       [-0.79963904, -0.51882766,  1.30701792],\n",
              "       [-0.14797953,  0.26976548, -0.19411235],\n",
              "       [-1.0957766 , -2.39406044, -0.17064887]])"
            ]
          },
          "metadata": {
            "tags": []
          },
          "execution_count": 11
        }
      ]
    },
    {
      "cell_type": "markdown",
      "metadata": {
        "deletable": true,
        "editable": true,
        "id": "rB2-1qQZojY8",
        "colab_type": "text"
      },
      "source": [
        "### Run PCA using a standard Python library\n",
        "\n",
        "* Set standardize to False because we have already scaled the data ourselves\n",
        "* **fracs** gives us the proportion of variance of each principal component i.e. how much each component contributes to explaining the variance in the input"
      ]
    },
    {
      "cell_type": "code",
      "metadata": {
        "deletable": true,
        "editable": true,
        "id": "93E4vGtwojZJ",
        "colab_type": "code",
        "colab": {
          "base_uri": "https://localhost:8080/",
          "height": 89
        },
        "outputId": "6b819875-4021-4621-f9a2-9e7ab46cb855"
      },
      "source": [
        "results = PCA(returns_arr_scaled, standardize=False)\n",
        "results.fracs"
      ],
      "execution_count": 12,
      "outputs": [
        {
          "output_type": "stream",
          "text": [
            "/usr/local/lib/python2.7/dist-packages/ipykernel_launcher.py:1: MatplotlibDeprecationWarning: The PCA class was deprecated in version 2.2.\n",
            "  \"\"\"Entry point for launching an IPython kernel.\n"
          ],
          "name": "stderr"
        },
        {
          "output_type": "execute_result",
          "data": {
            "text/plain": [
              "array([0.60781955, 0.32166829, 0.07051216])"
            ]
          },
          "metadata": {
            "tags": []
          },
          "execution_count": 12
        }
      ]
    },
    {
      "cell_type": "markdown",
      "metadata": {
        "deletable": true,
        "editable": true,
        "id": "pJW89gB7ojZw",
        "colab_type": "text"
      },
      "source": [
        "### Projection of the original data in PCA space\n",
        "\n",
        "This has all the principal components from the original data. **The original data can be completely reconstructed if we use all the principal components**"
      ]
    },
    {
      "cell_type": "code",
      "metadata": {
        "deletable": true,
        "editable": true,
        "id": "nTFExbBmojZ7",
        "colab_type": "code",
        "colab": {
          "base_uri": "https://localhost:8080/",
          "height": 364
        },
        "outputId": "079cfc05-1d58-4806-8d4e-7e98b8c75f4f"
      },
      "source": [
        "results.Y #principal components"
      ],
      "execution_count": 13,
      "outputs": [
        {
          "output_type": "execute_result",
          "data": {
            "text/plain": [
              "array([[-0.81352622, -0.0344661 , -0.41981705],\n",
              "       [ 0.48330724, -0.03463209, -0.19943605],\n",
              "       [ 0.28541572, -0.61112976, -0.10701119],\n",
              "       [ 1.15841885, -0.4941762 , -0.58742383],\n",
              "       [-0.04531414, -1.17026147,  0.26126386],\n",
              "       [-0.11741815, -1.02128333, -0.51022887],\n",
              "       [ 0.18735121, -0.08798269, -0.03914118],\n",
              "       [ 1.28672675,  0.98550887,  0.38458144],\n",
              "       [ 2.88930345,  1.31359118,  0.69730893],\n",
              "       [-0.68672399, -1.09413487,  0.07570745],\n",
              "       [ 0.5432214 ,  0.9716301 , -0.14155166],\n",
              "       [-2.77222082, -0.04182361,  0.52840606],\n",
              "       [-0.94790014,  2.20656767, -0.18790612],\n",
              "       [ 0.36740601,  0.65000011, -0.85354254],\n",
              "       [ 2.42484146, -1.53196526,  0.78063647],\n",
              "       [ 0.27415654, -0.64923202, -0.21713054],\n",
              "       [-1.51319453, -0.98980136, -0.06277129],\n",
              "       [-0.59450541,  1.50444085, -0.0110293 ],\n",
              "       [ 0.0422457 , -0.16866673, -0.31955874],\n",
              "       [-2.45159092,  0.29781672,  0.92864413]])"
            ]
          },
          "metadata": {
            "tags": []
          },
          "execution_count": 13
        }
      ]
    },
    {
      "cell_type": "markdown",
      "metadata": {
        "deletable": true,
        "editable": true,
        "id": "0AcWWHPOoja3",
        "colab_type": "text"
      },
      "source": [
        "### The weight vector\n",
        "\n",
        "This is the vector used to project the original data into PCA space. This can be used on the principal components to reconstruct the original data."
      ]
    },
    {
      "cell_type": "code",
      "metadata": {
        "deletable": true,
        "editable": true,
        "id": "doewURCVojbA",
        "colab_type": "code",
        "colab": {
          "base_uri": "https://localhost:8080/",
          "height": 69
        },
        "outputId": "40619982-e4fb-4c03-b5bb-9fc7de43fa5c"
      },
      "source": [
        "#Eugine vectors (weights) of the PCA\n",
        "results.Wt"
      ],
      "execution_count": 14,
      "outputs": [
        {
          "output_type": "execute_result",
          "data": {
            "text/plain": [
              "array([[ 0.67658261,  0.69753442,  0.23596969],\n",
              "       [-0.25910276, -0.07444624,  0.96297638],\n",
              "       [ 0.68927623, -0.71267348,  0.13036406]])"
            ]
          },
          "metadata": {
            "tags": []
          },
          "execution_count": 14
        }
      ]
    },
    {
      "cell_type": "markdown",
      "metadata": {
        "deletable": true,
        "editable": true,
        "id": "4D868tSgojbh",
        "colab_type": "text"
      },
      "source": [
        "### Generating the original data from the principal components and the weight vector"
      ]
    },
    {
      "cell_type": "code",
      "metadata": {
        "deletable": true,
        "editable": true,
        "id": "qZR7Egm-ojbt",
        "colab_type": "code",
        "colab": {
          "base_uri": "https://localhost:8080/",
          "height": 364
        },
        "outputId": "3de2d008-5504-4bfa-9b89-cb26c8a6f6d8"
      },
      "source": [
        "#original scaled and standardized data\n",
        "np.dot(results.Y, results.Wt)"
      ],
      "execution_count": 15,
      "outputs": [
        {
          "output_type": "execute_result",
          "data": {
            "text/plain": [
              "array([[-0.83085735, -0.26570419, -0.27988663],\n",
              "       [ 0.19850401,  0.48183445,  0.05469668],\n",
              "       [ 0.27769246,  0.32084764, -0.53510448],\n",
              "       [ 0.50691119,  1.26346797, -0.27910722],\n",
              "       [ 0.45264219, -0.13068243, -1.10356751],\n",
              "       [-0.16651438,  0.35775408, -1.07769436],\n",
              "       [ 0.12257604,  0.16512878, -0.04561865],\n",
              "       [ 0.88031173,  0.55008778,  1.30278588],\n",
              "       [ 2.09513584,  1.4206431 ,  2.03764936],\n",
              "       [-0.1289488 , -0.45151408, -1.20580256],\n",
              "       [ 0.01821392,  0.40746153,  1.04538738],\n",
              "       [-1.50058206, -2.30718683, -0.62555009],\n",
              "       [-1.34257977, -0.69154794,  1.87670064],\n",
              "       [-0.50816289,  0.8161854 ,  0.60136016],\n",
              "       [ 2.57561617,  1.24912054, -0.80129032],\n",
              "       [ 0.20404444,  0.39430968, -0.58880849],\n",
              "       [-0.8106076 , -0.93708285, -1.31840651],\n",
              "       [-0.79963904, -0.51882766,  1.30701792],\n",
              "       [-0.14797953,  0.26976548, -0.19411235],\n",
              "       [-1.0957766 , -2.39406044, -0.17064887]])"
            ]
          },
          "metadata": {
            "tags": []
          },
          "execution_count": 15
        }
      ]
    },
    {
      "cell_type": "markdown",
      "metadata": {
        "deletable": true,
        "editable": true,
        "id": "DTgAoN9Hojcp",
        "colab_type": "text"
      },
      "source": [
        "## Set up the TensorFlow code for an Autoencoder\n",
        "\n",
        "* The number of inputs of the auto-encoder is equal to the number of outputs (number of columns in our input data)\n",
        "* We have one hidden layer with 2 neurons\n",
        "* Use an AdamOptimizer to minimize the loss\n",
        "\n",
        "Notice that:\n",
        "\n",
        "* The reconstruction loss of the output is the **mean-square error**\n",
        "* Each layer has **no activation function** i.e is a linear layer\n",
        "\n",
        "An Autoencoder set up this way simply **performs a PCA**"
      ]
    },
    {
      "cell_type": "code",
      "metadata": {
        "deletable": true,
        "editable": true,
        "id": "Y3LPTWcoojcu",
        "colab_type": "code",
        "colab": {}
      },
      "source": [
        "import tensorflow as tf\n",
        "\n",
        "n_inputs = 3\n",
        "n_hidden = 2  # codings\n",
        "n_outputs = n_inputs\n",
        "\n",
        "learning_rate = 0.01\n",
        "\n",
        "tf.reset_default_graph()\n",
        "\n",
        "X = tf.placeholder(tf.float32, shape=[None, n_inputs])\n",
        "hidden = tf.layers.dense(X, n_hidden)\n",
        "outputs = tf.layers.dense(hidden, n_outputs)\n",
        "\n",
        "reconstruction_loss = tf.reduce_mean(tf.square(outputs - X))\n",
        "\n",
        "optimizer = tf.train.AdamOptimizer(learning_rate)\n",
        "training_op = optimizer.minimize(reconstruction_loss)\n",
        "\n",
        "init = tf.global_variables_initializer()"
      ],
      "execution_count": 0,
      "outputs": []
    },
    {
      "cell_type": "markdown",
      "metadata": {
        "deletable": true,
        "editable": true,
        "id": "avs_2D3tojdH",
        "colab_type": "text"
      },
      "source": [
        "### Run the training data through the Autoencoder\n",
        "\n",
        "* We do not use any labels for this training only the input data\n",
        "* The output is the reconstructed value using only the 2 principal components\n",
        "\n",
        "*Note that the reconstruction will not be equal to the input data*"
      ]
    },
    {
      "cell_type": "code",
      "metadata": {
        "deletable": true,
        "editable": true,
        "id": "HT1DBBipojdL",
        "colab_type": "code",
        "colab": {
          "base_uri": "https://localhost:8080/",
          "height": 364
        },
        "outputId": "b40b1665-a8f9-4e81-901c-0a88ab3c49d9"
      },
      "source": [
        "n_iterations = 10000\n",
        "\n",
        "with tf.Session() as sess:\n",
        "    init.run()\n",
        "    for iteration in range(n_iterations):\n",
        "        training_op.run(feed_dict={X: returns_arr_scaled})\n",
        "\n",
        "    outputs_val = outputs.eval(feed_dict={X: returns_arr_scaled})\n",
        "    print(outputs_val)"
      ],
      "execution_count": 17,
      "outputs": [
        {
          "output_type": "stream",
          "text": [
            "[[-0.5414952  -0.5649018  -0.22512446]\n",
            " [ 0.33594507  0.3396814   0.08071659]\n",
            " [ 0.35142988  0.24456729 -0.52112836]\n",
            " [ 0.9117743   0.8448002  -0.2025118 ]\n",
            " [ 0.27254063  0.05550228 -1.1375949 ]\n",
            " [ 0.1851571  -0.00588278 -1.011147  ]\n",
            " [ 0.14953355  0.13721713 -0.04049222]\n",
            " [ 0.6151921   0.8241359   1.2526579 ]\n",
            " [ 1.6144387   1.9175441   1.9467356 ]\n",
            " [-0.18114196 -0.39756322 -1.2156342 ]\n",
            " [ 0.11575574  0.30655745  1.0638553 ]\n",
            " [-1.8647817  -1.930589   -0.694383  ]\n",
            " [-1.2130667  -0.8254739   1.9012191 ]\n",
            " [ 0.08014021  0.20786774  0.7126493 ]\n",
            " [ 2.03749     1.8054208  -0.9030472 ]\n",
            " [ 0.3536847   0.23955046 -0.5604765 ]\n",
            " [-0.7673394  -0.98181283 -1.3101782 ]\n",
            " [-0.79204786 -0.5267004   1.3084785 ]\n",
            " [ 0.07226527  0.04200972 -0.15242776]\n",
            " [-1.7358555  -1.7322284  -0.2916632 ]]\n"
          ],
          "name": "stdout"
        }
      ]
    },
    {
      "cell_type": "markdown",
      "metadata": {
        "deletable": true,
        "editable": true,
        "id": "xB7A0j-QojeL",
        "colab_type": "text"
      },
      "source": [
        "### The output of the PCA is equal to the reconstructed output if we used only 2 principal components"
      ]
    },
    {
      "cell_type": "code",
      "metadata": {
        "deletable": true,
        "editable": true,
        "id": "WtyrX8DmojeW",
        "colab_type": "code",
        "colab": {
          "base_uri": "https://localhost:8080/",
          "height": 364
        },
        "outputId": "19b59bf2-3f20-4865-94a6-9e08682dc0b6"
      },
      "source": [
        "np.dot(results.Y[:,[0,1]], results.Wt[[0,1]])"
      ],
      "execution_count": 18,
      "outputs": [
        {
          "output_type": "execute_result",
          "data": {
            "text/plain": [
              "array([[-0.54148743, -0.56489667, -0.22515757],\n",
              "       [ 0.33597054,  0.33970166,  0.08069597],\n",
              "       [ 0.35145272,  0.2445836 , -0.52115407],\n",
              "       [ 0.91180847,  0.84482659, -0.20252826],\n",
              "       [ 0.27255922,  0.0555134 , -1.13762692],\n",
              "       [ 0.18517425, -0.0058725 , -1.01117886],\n",
              "       [ 0.14955513,  0.1372339 , -0.04051605],\n",
              "       [ 0.61522888,  0.82416877,  1.25265028],\n",
              "       [ 1.61449737,  1.91759669,  1.94674534],\n",
              "       [-0.18113214, -0.39755939, -1.21567209],\n",
              "       [ 0.11578211,  0.30658142,  1.06384063],\n",
              "       [-1.8647998 , -1.93060584, -0.69443525],\n",
              "       [-1.21306054, -0.82546365,  1.90119685],\n",
              "       [ 0.0801637 ,  0.20788828,  0.71263144],\n",
              "       [ 2.037542  ,  1.80545945, -0.90305726],\n",
              "       [ 0.35370736,  0.23956651, -0.56050247],\n",
              "       [-0.76734084, -0.98181828, -1.31022339],\n",
              "       [-0.7920368 , -0.52668796,  1.30845574],\n",
              "       [ 0.07228472,  0.04202443, -0.15245337],\n",
              "       [-1.73586893, -1.73224039, -0.29171069]])"
            ]
          },
          "metadata": {
            "tags": []
          },
          "execution_count": 18
        }
      ]
    },
    {
      "cell_type": "code",
      "metadata": {
        "deletable": true,
        "editable": true,
        "id": "WQeKGh6gojfJ",
        "colab_type": "code",
        "colab": {}
      },
      "source": [
        ""
      ],
      "execution_count": 0,
      "outputs": []
    },
    {
      "cell_type": "code",
      "metadata": {
        "deletable": true,
        "editable": true,
        "id": "WNwsiHKwojfh",
        "colab_type": "code",
        "colab": {}
      },
      "source": [
        ""
      ],
      "execution_count": 0,
      "outputs": []
    },
    {
      "cell_type": "code",
      "metadata": {
        "deletable": true,
        "editable": true,
        "id": "FmaaIYK_ojhm",
        "colab_type": "code",
        "colab": {}
      },
      "source": [
        ""
      ],
      "execution_count": 0,
      "outputs": []
    },
    {
      "cell_type": "code",
      "metadata": {
        "deletable": true,
        "editable": true,
        "id": "4YixIZ7mojjK",
        "colab_type": "code",
        "colab": {}
      },
      "source": [
        ""
      ],
      "execution_count": 0,
      "outputs": []
    },
    {
      "cell_type": "code",
      "metadata": {
        "deletable": true,
        "editable": true,
        "id": "C1t2OutLojk6",
        "colab_type": "code",
        "colab": {}
      },
      "source": [
        ""
      ],
      "execution_count": 0,
      "outputs": []
    }
  ]
}