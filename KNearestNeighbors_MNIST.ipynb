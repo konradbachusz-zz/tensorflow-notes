{
  "nbformat": 4,
  "nbformat_minor": 0,
  "metadata": {
    "kernelspec": {
      "display_name": "Python 3",
      "language": "python",
      "name": "python3"
    },
    "language_info": {
      "codemirror_mode": {
        "name": "ipython",
        "version": 3
      },
      "file_extension": ".py",
      "mimetype": "text/x-python",
      "name": "python",
      "nbconvert_exporter": "python",
      "pygments_lexer": "ipython3",
      "version": "3.7.3"
    },
    "colab": {
      "name": "KNearestNeighbors_MNIST.ipynb",
      "provenance": [],
      "collapsed_sections": [],
      "include_colab_link": true
    }
  },
  "cells": [
    {
      "cell_type": "markdown",
      "metadata": {
        "id": "view-in-github",
        "colab_type": "text"
      },
      "source": [
        "<a href=\"https://colab.research.google.com/github/konradbachusz/tensorflow-notes/blob/master/KNearestNeighbors_MNIST.ipynb\" target=\"_parent\"><img src=\"https://colab.research.google.com/assets/colab-badge.svg\" alt=\"Open In Colab\"/></a>"
      ]
    },
    {
      "cell_type": "markdown",
      "metadata": {
        "id": "ldbZdbfZNp3P",
        "colab_type": "text"
      },
      "source": [
        "# Handwritten Digit Classification using K-nearest-neighbors"
      ]
    },
    {
      "cell_type": "markdown",
      "metadata": {
        "id": "W8TPEUuKNp4f",
        "colab_type": "text"
      },
      "source": [
        "### Make the notebook compatible with both Python 2 and 3\n",
        "\n",
        "http://python-future.org/compatible_idioms.html"
      ]
    },
    {
      "cell_type": "code",
      "metadata": {
        "id": "h9dk1o0QNp5T",
        "colab_type": "code",
        "colab": {}
      },
      "source": [
        "from __future__ import absolute_import, division, print_function"
      ],
      "execution_count": 0,
      "outputs": []
    },
    {
      "cell_type": "code",
      "metadata": {
        "id": "wPblRzVQO0gn",
        "colab_type": "code",
        "colab": {
          "base_uri": "https://localhost:8080/",
          "height": 225
        },
        "outputId": "9be14f65-5669-4073-9190-a667560af697"
      },
      "source": [
        "!pip uninstall tensorflow"
      ],
      "execution_count": 2,
      "outputs": [
        {
          "output_type": "stream",
          "text": [
            "Uninstalling tensorflow-1.5.0:\n",
            "  Would remove:\n",
            "    /usr/local/bin/freeze_graph\n",
            "    /usr/local/bin/saved_model_cli\n",
            "    /usr/local/bin/tensorboard\n",
            "    /usr/local/bin/toco\n",
            "    /usr/local/bin/toco_from_protos\n",
            "    /usr/local/lib/python3.6/dist-packages/external/*\n",
            "    /usr/local/lib/python3.6/dist-packages/tensorflow-1.5.0.dist-info/*\n",
            "    /usr/local/lib/python3.6/dist-packages/tensorflow/*\n",
            "Proceed (y/n)? y\n",
            "  Successfully uninstalled tensorflow-1.5.0\n"
          ],
          "name": "stdout"
        }
      ]
    },
    {
      "cell_type": "code",
      "metadata": {
        "id": "S0ryE9P0O1sz",
        "colab_type": "code",
        "colab": {
          "base_uri": "https://localhost:8080/",
          "height": 298
        },
        "outputId": "655aa4da-be3d-459a-ba02-ff7c29c88099"
      },
      "source": [
        "!pip install tensorflow==1.5"
      ],
      "execution_count": 3,
      "outputs": [
        {
          "output_type": "stream",
          "text": [
            "Collecting tensorflow==1.5\n",
            "  Using cached https://files.pythonhosted.org/packages/04/79/a37d0b373757b4d283c674a64127bd8864d69f881c639b1ee5953e2d9301/tensorflow-1.5.0-cp36-cp36m-manylinux1_x86_64.whl\n",
            "Requirement already satisfied: numpy>=1.12.1 in /usr/local/lib/python3.6/dist-packages (from tensorflow==1.5) (1.18.2)\n",
            "Requirement already satisfied: protobuf>=3.4.0 in /usr/local/lib/python3.6/dist-packages (from tensorflow==1.5) (3.10.0)\n",
            "Requirement already satisfied: six>=1.10.0 in /usr/local/lib/python3.6/dist-packages (from tensorflow==1.5) (1.12.0)\n",
            "Requirement already satisfied: wheel>=0.26 in /usr/local/lib/python3.6/dist-packages (from tensorflow==1.5) (0.34.2)\n",
            "Requirement already satisfied: tensorflow-tensorboard<1.6.0,>=1.5.0 in /usr/local/lib/python3.6/dist-packages (from tensorflow==1.5) (1.5.1)\n",
            "Requirement already satisfied: absl-py>=0.1.6 in /usr/local/lib/python3.6/dist-packages (from tensorflow==1.5) (0.9.0)\n",
            "Requirement already satisfied: setuptools in /usr/local/lib/python3.6/dist-packages (from protobuf>=3.4.0->tensorflow==1.5) (46.1.3)\n",
            "Requirement already satisfied: bleach==1.5.0 in /usr/local/lib/python3.6/dist-packages (from tensorflow-tensorboard<1.6.0,>=1.5.0->tensorflow==1.5) (1.5.0)\n",
            "Requirement already satisfied: html5lib==0.9999999 in /usr/local/lib/python3.6/dist-packages (from tensorflow-tensorboard<1.6.0,>=1.5.0->tensorflow==1.5) (0.9999999)\n",
            "Requirement already satisfied: werkzeug>=0.11.10 in /usr/local/lib/python3.6/dist-packages (from tensorflow-tensorboard<1.6.0,>=1.5.0->tensorflow==1.5) (1.0.1)\n",
            "Requirement already satisfied: markdown>=2.6.8 in /usr/local/lib/python3.6/dist-packages (from tensorflow-tensorboard<1.6.0,>=1.5.0->tensorflow==1.5) (3.2.1)\n",
            "Installing collected packages: tensorflow\n",
            "Successfully installed tensorflow-1.5.0\n"
          ],
          "name": "stdout"
        }
      ]
    },
    {
      "cell_type": "code",
      "metadata": {
        "id": "z4M3YZ1cORrv",
        "colab_type": "code",
        "colab": {
          "base_uri": "https://localhost:8080/",
          "height": 34
        },
        "outputId": "cb102068-5b1a-418a-8efc-2b8e197114bb"
      },
      "source": [
        "\"%tensorflow_version 1.5\""
      ],
      "execution_count": 4,
      "outputs": [
        {
          "output_type": "execute_result",
          "data": {
            "text/plain": [
              "'%tensorflow_version 1.5'"
            ]
          },
          "metadata": {
            "tags": []
          },
          "execution_count": 4
        }
      ]
    },
    {
      "cell_type": "code",
      "metadata": {
        "id": "mKmkCmlUNp_L",
        "colab_type": "code",
        "colab": {
          "base_uri": "https://localhost:8080/",
          "height": 292
        },
        "outputId": "0f775b70-79ee-423b-d8b6-95a75b41204f"
      },
      "source": [
        "import numpy as np\n",
        "import tensorflow as tf"
      ],
      "execution_count": 5,
      "outputs": [
        {
          "output_type": "stream",
          "text": [
            "/usr/local/lib/python3.6/dist-packages/tensorflow/python/framework/dtypes.py:493: FutureWarning: Passing (type, 1) or '1type' as a synonym of type is deprecated; in a future version of numpy, it will be understood as (type, (1,)) / '(1,)type'.\n",
            "  _np_qint8 = np.dtype([(\"qint8\", np.int8, 1)])\n",
            "/usr/local/lib/python3.6/dist-packages/tensorflow/python/framework/dtypes.py:494: FutureWarning: Passing (type, 1) or '1type' as a synonym of type is deprecated; in a future version of numpy, it will be understood as (type, (1,)) / '(1,)type'.\n",
            "  _np_quint8 = np.dtype([(\"quint8\", np.uint8, 1)])\n",
            "/usr/local/lib/python3.6/dist-packages/tensorflow/python/framework/dtypes.py:495: FutureWarning: Passing (type, 1) or '1type' as a synonym of type is deprecated; in a future version of numpy, it will be understood as (type, (1,)) / '(1,)type'.\n",
            "  _np_qint16 = np.dtype([(\"qint16\", np.int16, 1)])\n",
            "/usr/local/lib/python3.6/dist-packages/tensorflow/python/framework/dtypes.py:496: FutureWarning: Passing (type, 1) or '1type' as a synonym of type is deprecated; in a future version of numpy, it will be understood as (type, (1,)) / '(1,)type'.\n",
            "  _np_quint16 = np.dtype([(\"quint16\", np.uint16, 1)])\n",
            "/usr/local/lib/python3.6/dist-packages/tensorflow/python/framework/dtypes.py:497: FutureWarning: Passing (type, 1) or '1type' as a synonym of type is deprecated; in a future version of numpy, it will be understood as (type, (1,)) / '(1,)type'.\n",
            "  _np_qint32 = np.dtype([(\"qint32\", np.int32, 1)])\n",
            "/usr/local/lib/python3.6/dist-packages/tensorflow/python/framework/dtypes.py:502: FutureWarning: Passing (type, 1) or '1type' as a synonym of type is deprecated; in a future version of numpy, it will be understood as (type, (1,)) / '(1,)type'.\n",
            "  np_resource = np.dtype([(\"resource\", np.ubyte, 1)])\n"
          ],
          "name": "stderr"
        },
        {
          "output_type": "display_data",
          "data": {
            "text/html": [
              "<p style=\"color: red;\">\n",
              "The default version of TensorFlow in Colab will switch to TensorFlow 2.x on the 27th of March, 2020.<br>\n",
              "We recommend you <a href=\"https://www.tensorflow.org/guide/migrate\" target=\"_blank\">upgrade</a> now\n",
              "or ensure your notebook will continue to use TensorFlow 1.x via the <code>%tensorflow_version 1.x</code> magic:\n",
              "<a href=\"https://colab.research.google.com/notebooks/tensorflow_version.ipynb\" target=\"_blank\">more info</a>.</p>\n"
            ],
            "text/plain": [
              "<IPython.core.display.HTML object>"
            ]
          },
          "metadata": {
            "tags": []
          }
        }
      ]
    },
    {
      "cell_type": "markdown",
      "metadata": {
        "id": "9V78N36yNqCY",
        "colab_type": "text"
      },
      "source": [
        "### Plot graphs inline"
      ]
    },
    {
      "cell_type": "code",
      "metadata": {
        "id": "1CUrtT4iNqDj",
        "colab_type": "code",
        "colab": {}
      },
      "source": [
        "%matplotlib inline\n",
        "\n",
        "import matplotlib\n",
        "import matplotlib.pyplot as plt"
      ],
      "execution_count": 0,
      "outputs": []
    },
    {
      "cell_type": "code",
      "metadata": {
        "id": "uwtkZYudNqGg",
        "colab_type": "code",
        "colab": {
          "base_uri": "https://localhost:8080/",
          "height": 69
        },
        "outputId": "f845fdef-4a7e-4306-9a43-418764cdc92a"
      },
      "source": [
        "print(tf.__version__)\n",
        "print(np.__version__)\n",
        "print(matplotlib.__version__)"
      ],
      "execution_count": 7,
      "outputs": [
        {
          "output_type": "stream",
          "text": [
            "1.5.0\n",
            "1.18.2\n",
            "3.2.1\n"
          ],
          "name": "stdout"
        }
      ]
    },
    {
      "cell_type": "markdown",
      "metadata": {
        "id": "5B8g17gUNqH2",
        "colab_type": "text"
      },
      "source": [
        "### Download and extract the MNIST libraries\n",
        "\n",
        "The original site where this dataset is available: http://yann.lecun.com/exdb/mnist/"
      ]
    },
    {
      "cell_type": "code",
      "metadata": {
        "id": "O0YQ6G-4NqIA",
        "colab_type": "code",
        "colab": {
          "base_uri": "https://localhost:8080/",
          "height": 156
        },
        "outputId": "9a1dacee-e82c-4c9c-8fd7-9018951145f1"
      },
      "source": [
        "# Import MNIST data\n",
        "from tensorflow.examples.tutorials.mnist import input_data\n",
        "\n",
        "# Store the MNIST data in mnist_data/\n",
        "mnist = input_data.read_data_sets(\"mnist_data/\")"
      ],
      "execution_count": 8,
      "outputs": [
        {
          "output_type": "stream",
          "text": [
            "Successfully downloaded train-images-idx3-ubyte.gz 9912422 bytes.\n",
            "Extracting mnist_data/train-images-idx3-ubyte.gz\n",
            "Successfully downloaded train-labels-idx1-ubyte.gz 28881 bytes.\n",
            "Extracting mnist_data/train-labels-idx1-ubyte.gz\n",
            "Successfully downloaded t10k-images-idx3-ubyte.gz 1648877 bytes.\n",
            "Extracting mnist_data/t10k-images-idx3-ubyte.gz\n",
            "Successfully downloaded t10k-labels-idx1-ubyte.gz 4542 bytes.\n",
            "Extracting mnist_data/t10k-labels-idx1-ubyte.gz\n"
          ],
          "name": "stdout"
        }
      ]
    },
    {
      "cell_type": "markdown",
      "metadata": {
        "id": "wzQy9NX6NqJe",
        "colab_type": "text"
      },
      "source": [
        "### Helper function to display one digit image\n",
        "\n",
        "Reshape the data from 1-D array to a 2-D array of 28x28 pixels"
      ]
    },
    {
      "cell_type": "code",
      "metadata": {
        "id": "SafgMIzgNqJ7",
        "colab_type": "code",
        "colab": {}
      },
      "source": [
        "def display_digit(digit):\n",
        "    plt.imshow(digit.reshape(28, 28), cmap=\"Greys\", interpolation='nearest')"
      ],
      "execution_count": 0,
      "outputs": []
    },
    {
      "cell_type": "markdown",
      "metadata": {
        "id": "L7L5X0HeNqL_",
        "colab_type": "text"
      },
      "source": [
        "### Access the training and test data and the corresponding labels"
      ]
    },
    {
      "cell_type": "code",
      "metadata": {
        "id": "kWSY6AdmNqMU",
        "colab_type": "code",
        "colab": {}
      },
      "source": [
        "training_digits, training_labels = mnist.train.next_batch(1000)\n",
        "test_digits, test_labels = mnist.test.next_batch(200)"
      ],
      "execution_count": 0,
      "outputs": []
    },
    {
      "cell_type": "code",
      "metadata": {
        "id": "Kyc6lKyNNqO4",
        "colab_type": "code",
        "colab": {
          "base_uri": "https://localhost:8080/",
          "height": 265
        },
        "outputId": "cd77132e-44f9-4804-9279-6e2aff9a8755"
      },
      "source": [
        "display_digit(training_digits[1])"
      ],
      "execution_count": 11,
      "outputs": [
        {
          "output_type": "display_data",
          "data": {
            "image/png": "[encoded data removed]",
            "text/plain": [
              "<Figure size 432x288 with 1 Axes>"
            ]
          },
          "metadata": {
            "tags": [],
            "needs_background": "light"
          }
        }
      ]
    },
    {
      "cell_type": "code",
      "metadata": {
        "id": "TcHooWz-NqRz",
        "colab_type": "code",
        "colab": {
          "base_uri": "https://localhost:8080/",
          "height": 34
        },
        "outputId": "63bd16b5-523a-475c-f7b2-7ef9711be191"
      },
      "source": [
        "training_labels[:5]"
      ],
      "execution_count": 21,
      "outputs": [
        {
          "output_type": "execute_result",
          "data": {
            "text/plain": [
              "array([0, 5, 7, 2, 2], dtype=uint8)"
            ]
          },
          "metadata": {
            "tags": []
          },
          "execution_count": 21
        }
      ]
    },
    {
      "cell_type": "code",
      "metadata": {
        "id": "jS7CuV0ZNqTa",
        "colab_type": "code",
        "colab": {}
      },
      "source": [
        "tf.reset_default_graph()"
      ],
      "execution_count": 0,
      "outputs": []
    },
    {
      "cell_type": "markdown",
      "metadata": {
        "id": "rz2sePWyNqUP",
        "colab_type": "text"
      },
      "source": [
        "### Placeholders for training and test data\n",
        "\n",
        "* The training dataset placeholder can have any number of instances and each instance is an array of 28x28 = 784 pixels\n",
        "* The test placeholder will hold just a single digit image at a time"
      ]
    },
    {
      "cell_type": "code",
      "metadata": {
        "id": "2MR0CvMYNqUa",
        "colab_type": "code",
        "colab": {}
      },
      "source": [
        "training_digits_pl = tf.placeholder(\"float\", [None, 784])\n",
        "\n",
        "test_digit_pl = tf.placeholder(\"float\", [784])"
      ],
      "execution_count": 0,
      "outputs": []
    },
    {
      "cell_type": "markdown",
      "metadata": {
        "id": "9Z6yvl4RNqV_",
        "colab_type": "text"
      },
      "source": [
        "### Get the label which occurs the most often in our predicted set\n",
        "\n",
        "* *labels*: The labels associated with the entire training dataset\n",
        "* *indices*: The indices of those images which are the closest to the test image\n",
        "* Returns the labels which has been predicted the most often"
      ]
    },
    {
      "cell_type": "code",
      "metadata": {
        "id": "NYkn5m5uNqWT",
        "colab_type": "code",
        "colab": {}
      },
      "source": [
        "def get_majority_predicted_label(labels, indices):\n",
        "    predicted_labels = []\n",
        "    for i in indices:\n",
        "        predicted_labels.append(labels[i])\n",
        "        \n",
        "    predicted_labels = np.array(predicted_labels)\n",
        "    \n",
        "    print(predicted_labels)\n",
        "    \n",
        "    # Place the labels into bins and find the bin with the highest number of labels\n",
        "    counts = np.bincount(predicted_labels)\n",
        "    \n",
        "    return np.argmax(counts)"
      ],
      "execution_count": 0,
      "outputs": []
    },
    {
      "cell_type": "markdown",
      "metadata": {
        "id": "2Ll6LUnvNqYP",
        "colab_type": "text"
      },
      "source": [
        "### Nearest neighbor calculation using L1 distance\n",
        "\n",
        "* Calculate the **absolute value** of the distance between the test image and the training set\n",
        "* Calculate the **sum** of the distance between the test image and all training images\n",
        "* Find the images in the training data that are the k closest neigbors\n",
        "* *top_k* finds the highest values, apply it to the negative of the distances"
      ]
    },
    {
      "cell_type": "code",
      "metadata": {
        "id": "LOV2-ZfMNqYb",
        "colab_type": "code",
        "colab": {}
      },
      "source": [
        "l1_distance = tf.abs(tf.subtract(training_digits_pl, test_digit_pl))\n",
        "\n",
        "distance_l1 = tf.reduce_sum(l1_distance, axis=1)\n",
        "\n",
        "pred_knn_l1 = tf.nn.top_k(tf.negative(distance_l1), k=1)"
      ],
      "execution_count": 0,
      "outputs": []
    },
    {
      "cell_type": "markdown",
      "metadata": {
        "id": "8AWqzy_HNqZj",
        "colab_type": "text"
      },
      "source": [
        "### Nearest neighbor calculation using L2 (Euclidean) distance\n",
        "\n",
        "* Calculate the **square** of the distance between the test image and the training set\n",
        "* Calculate the **square root of the sum of squares*** of the distance between the test image and all training images\n",
        "* Find the images in the training data that are the k closest neigbors\n",
        "* *top_k* finds the highest values, apply it to the negative of the distances"
      ]
    },
    {
      "cell_type": "code",
      "metadata": {
        "id": "nIWny187NqZp",
        "colab_type": "code",
        "colab": {}
      },
      "source": [
        "# Nearest Neighbor calculation using L2 distance\n",
        "l2_distance = tf.square(tf.subtract(training_digits_pl, test_digit_pl))\n",
        "\n",
        "distance_l2 = tf.sqrt(tf.reduce_sum(l2_distance, axis=1))\n",
        "\n",
        "pred_knn_l2 = tf.nn.top_k(tf.negative(distance_l2), k=1)"
      ],
      "execution_count": 0,
      "outputs": []
    },
    {
      "cell_type": "code",
      "metadata": {
        "id": "ODK9bOzVNqa3",
        "colab_type": "code",
        "colab": {}
      },
      "source": [
        "accuracy = 0."
      ],
      "execution_count": 0,
      "outputs": []
    },
    {
      "cell_type": "code",
      "metadata": {
        "id": "pR3B5NWbNqdF",
        "colab_type": "code",
        "colab": {}
      },
      "source": [
        "# Initializing the variables\n",
        "init = tf.global_variables_initializer()"
      ],
      "execution_count": 0,
      "outputs": []
    },
    {
      "cell_type": "code",
      "metadata": {
        "id": "o1ccYSoNNqfU",
        "colab_type": "code",
        "colab": {
          "base_uri": "https://localhost:8080/",
          "height": 1000
        },
        "outputId": "4861939b-1877-40b0-ff9e-6724953a8a84"
      },
      "source": [
        "with tf.Session() as sess:\n",
        "    sess.run(init)\n",
        "\n",
        "    # loop over test data\n",
        "    for i in range(len(test_digits)):\n",
        "        # Get nearest neighbor\n",
        "        _, indices = sess.run(pred_knn_l1, \\\n",
        "        \tfeed_dict={training_digits_pl: training_digits, test_digit_pl: test_digits[i, :]})\n",
        "\n",
        "        predicted_label = get_majority_predicted_label(training_labels, indices)\n",
        "        # Get nearest neighbor class label and compare it to its true label\n",
        "        print(\"Test\", i, \"Prediction:\", predicted_label, \\\n",
        "            \"True Label:\", test_labels[i])\n",
        "\n",
        "        # Calculate accuracy\n",
        "        if predicted_label == test_labels[i]:\n",
        "            accuracy += 1./len(test_digits)\n",
        "\n",
        "    print(\"Done!\")\n",
        "    print(\"Accuracy:\", accuracy)"
      ],
      "execution_count": 20,
      "outputs": [
        {
          "output_type": "stream",
          "text": [
            "[2]\n",
            "Test 0 Prediction: 2 True Label: 2\n",
            "[0]\n",
            "Test 1 Prediction: 0 True Label: 0\n",
            "[7]\n",
            "Test 2 Prediction: 7 True Label: 7\n",
            "[5]\n",
            "Test 3 Prediction: 5 True Label: 5\n",
            "[5]\n",
            "Test 4 Prediction: 5 True Label: 5\n",
            "[8]\n",
            "Test 5 Prediction: 8 True Label: 8\n",
            "[5]\n",
            "Test 6 Prediction: 5 True Label: 5\n",
            "[4]\n",
            "Test 7 Prediction: 4 True Label: 4\n",
            "[8]\n",
            "Test 8 Prediction: 8 True Label: 8\n",
            "[4]\n",
            "Test 9 Prediction: 4 True Label: 4\n",
            "[4]\n",
            "Test 10 Prediction: 4 True Label: 4\n",
            "[6]\n",
            "Test 11 Prediction: 6 True Label: 6\n",
            "[1]\n",
            "Test 12 Prediction: 1 True Label: 2\n",
            "[7]\n",
            "Test 13 Prediction: 7 True Label: 7\n",
            "[7]\n",
            "Test 14 Prediction: 7 True Label: 7\n",
            "[1]\n",
            "Test 15 Prediction: 1 True Label: 1\n",
            "[9]\n",
            "Test 16 Prediction: 9 True Label: 9\n",
            "[7]\n",
            "Test 17 Prediction: 7 True Label: 7\n",
            "[2]\n",
            "Test 18 Prediction: 2 True Label: 2\n",
            "[8]\n",
            "Test 19 Prediction: 8 True Label: 8\n",
            "[8]\n",
            "Test 20 Prediction: 8 True Label: 8\n",
            "[0]\n",
            "Test 21 Prediction: 0 True Label: 0\n",
            "[5]\n",
            "Test 22 Prediction: 5 True Label: 3\n",
            "[3]\n",
            "Test 23 Prediction: 3 True Label: 3\n",
            "[9]\n",
            "Test 24 Prediction: 9 True Label: 9\n",
            "[9]\n",
            "Test 25 Prediction: 9 True Label: 9\n",
            "[4]\n",
            "Test 26 Prediction: 4 True Label: 4\n",
            "[7]\n",
            "Test 27 Prediction: 7 True Label: 7\n",
            "[0]\n",
            "Test 28 Prediction: 0 True Label: 0\n",
            "[6]\n",
            "Test 29 Prediction: 6 True Label: 6\n",
            "[0]\n",
            "Test 30 Prediction: 0 True Label: 0\n",
            "[7]\n",
            "Test 31 Prediction: 7 True Label: 9\n",
            "[2]\n",
            "Test 32 Prediction: 2 True Label: 2\n",
            "[4]\n",
            "Test 33 Prediction: 4 True Label: 4\n",
            "[5]\n",
            "Test 34 Prediction: 5 True Label: 5\n",
            "[5]\n",
            "Test 35 Prediction: 5 True Label: 5\n",
            "[7]\n",
            "Test 36 Prediction: 7 True Label: 7\n",
            "[4]\n",
            "Test 37 Prediction: 4 True Label: 4\n",
            "[5]\n",
            "Test 38 Prediction: 5 True Label: 5\n",
            "[9]\n",
            "Test 39 Prediction: 9 True Label: 9\n",
            "[0]\n",
            "Test 40 Prediction: 0 True Label: 0\n",
            "[3]\n",
            "Test 41 Prediction: 3 True Label: 3\n",
            "[7]\n",
            "Test 42 Prediction: 7 True Label: 7\n",
            "[6]\n",
            "Test 43 Prediction: 6 True Label: 6\n",
            "[4]\n",
            "Test 44 Prediction: 4 True Label: 4\n",
            "[4]\n",
            "Test 45 Prediction: 4 True Label: 4\n",
            "[4]\n",
            "Test 46 Prediction: 4 True Label: 4\n",
            "[9]\n",
            "Test 47 Prediction: 9 True Label: 9\n",
            "[1]\n",
            "Test 48 Prediction: 1 True Label: 1\n",
            "[6]\n",
            "Test 49 Prediction: 6 True Label: 6\n",
            "[2]\n",
            "Test 50 Prediction: 2 True Label: 2\n",
            "[5]\n",
            "Test 51 Prediction: 5 True Label: 5\n",
            "[3]\n",
            "Test 52 Prediction: 3 True Label: 3\n",
            "[2]\n",
            "Test 53 Prediction: 2 True Label: 2\n",
            "[0]\n",
            "Test 54 Prediction: 0 True Label: 0\n",
            "[8]\n",
            "Test 55 Prediction: 8 True Label: 8\n",
            "[6]\n",
            "Test 56 Prediction: 6 True Label: 6\n",
            "[7]\n",
            "Test 57 Prediction: 7 True Label: 7\n",
            "[1]\n",
            "Test 58 Prediction: 1 True Label: 1\n",
            "[4]\n",
            "Test 59 Prediction: 4 True Label: 4\n",
            "[0]\n",
            "Test 60 Prediction: 0 True Label: 0\n",
            "[7]\n",
            "Test 61 Prediction: 7 True Label: 7\n",
            "[0]\n",
            "Test 62 Prediction: 0 True Label: 0\n",
            "[4]\n",
            "Test 63 Prediction: 4 True Label: 4\n",
            "[9]\n",
            "Test 64 Prediction: 9 True Label: 4\n",
            "[3]\n",
            "Test 65 Prediction: 3 True Label: 3\n",
            "[7]\n",
            "Test 66 Prediction: 7 True Label: 7\n",
            "[5]\n",
            "Test 67 Prediction: 5 True Label: 5\n",
            "[1]\n",
            "Test 68 Prediction: 1 True Label: 1\n",
            "[5]\n",
            "Test 69 Prediction: 5 True Label: 5\n",
            "[6]\n",
            "Test 70 Prediction: 6 True Label: 6\n",
            "[2]\n",
            "Test 71 Prediction: 2 True Label: 2\n",
            "[5]\n",
            "Test 72 Prediction: 5 True Label: 5\n",
            "[4]\n",
            "Test 73 Prediction: 4 True Label: 4\n",
            "[1]\n",
            "Test 74 Prediction: 1 True Label: 1\n",
            "[5]\n",
            "Test 75 Prediction: 5 True Label: 5\n",
            "[5]\n",
            "Test 76 Prediction: 5 True Label: 5\n",
            "[7]\n",
            "Test 77 Prediction: 7 True Label: 7\n",
            "[7]\n",
            "Test 78 Prediction: 7 True Label: 7\n",
            "[2]\n",
            "Test 79 Prediction: 2 True Label: 8\n",
            "[0]\n",
            "Test 80 Prediction: 0 True Label: 0\n",
            "[4]\n",
            "Test 81 Prediction: 4 True Label: 4\n",
            "[3]\n",
            "Test 82 Prediction: 3 True Label: 3\n",
            "[8]\n",
            "Test 83 Prediction: 8 True Label: 8\n",
            "[5]\n",
            "Test 84 Prediction: 5 True Label: 5\n",
            "[5]\n",
            "Test 85 Prediction: 5 True Label: 5\n",
            "[8]\n",
            "Test 86 Prediction: 8 True Label: 8\n",
            "[4]\n",
            "Test 87 Prediction: 4 True Label: 4\n",
            "[6]\n",
            "Test 88 Prediction: 6 True Label: 6\n",
            "[6]\n",
            "Test 89 Prediction: 6 True Label: 6\n",
            "[8]\n",
            "Test 90 Prediction: 8 True Label: 8\n",
            "[9]\n",
            "Test 91 Prediction: 9 True Label: 9\n",
            "[8]\n",
            "Test 92 Prediction: 8 True Label: 8\n",
            "[3]\n",
            "Test 93 Prediction: 3 True Label: 3\n",
            "[5]\n",
            "Test 94 Prediction: 5 True Label: 5\n",
            "[9]\n",
            "Test 95 Prediction: 9 True Label: 9\n",
            "[3]\n",
            "Test 96 Prediction: 3 True Label: 3\n",
            "[1]\n",
            "Test 97 Prediction: 1 True Label: 2\n",
            "[3]\n",
            "Test 98 Prediction: 3 True Label: 3\n",
            "[1]\n",
            "Test 99 Prediction: 1 True Label: 1\n",
            "[3]\n",
            "Test 100 Prediction: 3 True Label: 3\n",
            "[1]\n",
            "Test 101 Prediction: 1 True Label: 7\n",
            "[5]\n",
            "Test 102 Prediction: 5 True Label: 5\n",
            "[0]\n",
            "Test 103 Prediction: 0 True Label: 0\n",
            "[0]\n",
            "Test 104 Prediction: 0 True Label: 0\n",
            "[6]\n",
            "Test 105 Prediction: 6 True Label: 6\n",
            "[6]\n",
            "Test 106 Prediction: 6 True Label: 6\n",
            "[8]\n",
            "Test 107 Prediction: 8 True Label: 8\n",
            "[6]\n",
            "Test 108 Prediction: 6 True Label: 6\n",
            "[0]\n",
            "Test 109 Prediction: 0 True Label: 0\n",
            "[8]\n",
            "Test 110 Prediction: 8 True Label: 8\n",
            "[3]\n",
            "Test 111 Prediction: 3 True Label: 5\n",
            "[0]\n",
            "Test 112 Prediction: 0 True Label: 0\n",
            "[0]\n",
            "Test 113 Prediction: 0 True Label: 2\n",
            "[5]\n",
            "Test 114 Prediction: 5 True Label: 5\n",
            "[4]\n",
            "Test 115 Prediction: 4 True Label: 4\n",
            "[2]\n",
            "Test 116 Prediction: 2 True Label: 2\n",
            "[6]\n",
            "Test 117 Prediction: 6 True Label: 6\n",
            "[7]\n",
            "Test 118 Prediction: 7 True Label: 7\n",
            "[6]\n",
            "Test 119 Prediction: 6 True Label: 6\n",
            "[6]\n",
            "Test 120 Prediction: 6 True Label: 6\n",
            "[9]\n",
            "Test 121 Prediction: 9 True Label: 9\n",
            "[1]\n",
            "Test 122 Prediction: 1 True Label: 6\n",
            "[2]\n",
            "Test 123 Prediction: 2 True Label: 2\n",
            "[2]\n",
            "Test 124 Prediction: 2 True Label: 2\n",
            "[9]\n",
            "Test 125 Prediction: 9 True Label: 5\n",
            "[1]\n",
            "Test 126 Prediction: 1 True Label: 1\n",
            "[4]\n",
            "Test 127 Prediction: 4 True Label: 4\n",
            "[6]\n",
            "Test 128 Prediction: 6 True Label: 6\n",
            "[9]\n",
            "Test 129 Prediction: 9 True Label: 4\n",
            "[7]\n",
            "Test 130 Prediction: 7 True Label: 7\n",
            "[5]\n",
            "Test 131 Prediction: 5 True Label: 5\n",
            "[1]\n",
            "Test 132 Prediction: 1 True Label: 1\n",
            "[9]\n",
            "Test 133 Prediction: 9 True Label: 9\n",
            "[7]\n",
            "Test 134 Prediction: 7 True Label: 7\n",
            "[6]\n",
            "Test 135 Prediction: 6 True Label: 6\n",
            "[9]\n",
            "Test 136 Prediction: 9 True Label: 9\n",
            "[0]\n",
            "Test 137 Prediction: 0 True Label: 0\n",
            "[0]\n",
            "Test 138 Prediction: 0 True Label: 0\n",
            "[1]\n",
            "Test 139 Prediction: 1 True Label: 1\n",
            "[6]\n",
            "Test 140 Prediction: 6 True Label: 6\n",
            "[9]\n",
            "Test 141 Prediction: 9 True Label: 7\n",
            "[9]\n",
            "Test 142 Prediction: 9 True Label: 9\n",
            "[7]\n",
            "Test 143 Prediction: 7 True Label: 7\n",
            "[6]\n",
            "Test 144 Prediction: 6 True Label: 6\n",
            "[3]\n",
            "Test 145 Prediction: 3 True Label: 3\n",
            "[7]\n",
            "Test 146 Prediction: 7 True Label: 7\n",
            "[1]\n",
            "Test 147 Prediction: 1 True Label: 1\n",
            "[6]\n",
            "Test 148 Prediction: 6 True Label: 6\n",
            "[9]\n",
            "Test 149 Prediction: 9 True Label: 9\n",
            "[1]\n",
            "Test 150 Prediction: 1 True Label: 1\n",
            "[4]\n",
            "Test 151 Prediction: 4 True Label: 4\n",
            "[6]\n",
            "Test 152 Prediction: 6 True Label: 6\n",
            "[6]\n",
            "Test 153 Prediction: 6 True Label: 6\n",
            "[8]\n",
            "Test 154 Prediction: 8 True Label: 8\n",
            "[8]\n",
            "Test 155 Prediction: 8 True Label: 8\n",
            "[3]\n",
            "Test 156 Prediction: 3 True Label: 9\n",
            "[1]\n",
            "Test 157 Prediction: 1 True Label: 1\n",
            "[7]\n",
            "Test 158 Prediction: 7 True Label: 7\n",
            "[0]\n",
            "Test 159 Prediction: 0 True Label: 0\n",
            "[8]\n",
            "Test 160 Prediction: 8 True Label: 8\n",
            "[1]\n",
            "Test 161 Prediction: 1 True Label: 1\n",
            "[8]\n",
            "Test 162 Prediction: 8 True Label: 8\n",
            "[7]\n",
            "Test 163 Prediction: 7 True Label: 7\n",
            "[0]\n",
            "Test 164 Prediction: 0 True Label: 0\n",
            "[8]\n",
            "Test 165 Prediction: 8 True Label: 8\n",
            "[7]\n",
            "Test 166 Prediction: 7 True Label: 7\n",
            "[0]\n",
            "Test 167 Prediction: 0 True Label: 0\n",
            "[9]\n",
            "Test 168 Prediction: 9 True Label: 4\n",
            "[5]\n",
            "Test 169 Prediction: 5 True Label: 3\n",
            "[5]\n",
            "Test 170 Prediction: 5 True Label: 5\n",
            "[3]\n",
            "Test 171 Prediction: 3 True Label: 3\n",
            "[5]\n",
            "Test 172 Prediction: 5 True Label: 5\n",
            "[1]\n",
            "Test 173 Prediction: 1 True Label: 2\n",
            "[4]\n",
            "Test 174 Prediction: 4 True Label: 9\n",
            "[5]\n",
            "Test 175 Prediction: 5 True Label: 5\n",
            "[7]\n",
            "Test 176 Prediction: 7 True Label: 7\n",
            "[1]\n",
            "Test 177 Prediction: 1 True Label: 1\n",
            "[5]\n",
            "Test 178 Prediction: 5 True Label: 5\n",
            "[1]\n",
            "Test 179 Prediction: 1 True Label: 1\n",
            "[4]\n",
            "Test 180 Prediction: 4 True Label: 4\n",
            "[4]\n",
            "Test 181 Prediction: 4 True Label: 4\n",
            "[1]\n",
            "Test 182 Prediction: 1 True Label: 1\n",
            "[6]\n",
            "Test 183 Prediction: 6 True Label: 8\n",
            "[6]\n",
            "Test 184 Prediction: 6 True Label: 6\n",
            "[1]\n",
            "Test 185 Prediction: 1 True Label: 1\n",
            "[8]\n",
            "Test 186 Prediction: 8 True Label: 8\n",
            "[0]\n",
            "Test 187 Prediction: 0 True Label: 0\n",
            "[7]\n",
            "Test 188 Prediction: 7 True Label: 7\n",
            "[0]\n",
            "Test 189 Prediction: 0 True Label: 0\n",
            "[9]\n",
            "Test 190 Prediction: 9 True Label: 4\n",
            "[3]\n",
            "Test 191 Prediction: 3 True Label: 3\n",
            "[9]\n",
            "Test 192 Prediction: 9 True Label: 9\n",
            "[3]\n",
            "Test 193 Prediction: 3 True Label: 4\n",
            "[6]\n",
            "Test 194 Prediction: 6 True Label: 6\n",
            "[0]\n",
            "Test 195 Prediction: 0 True Label: 2\n",
            "[1]\n",
            "Test 196 Prediction: 1 True Label: 1\n",
            "[9]\n",
            "Test 197 Prediction: 9 True Label: 9\n",
            "[7]\n",
            "Test 198 Prediction: 7 True Label: 9\n",
            "[3]\n",
            "Test 199 Prediction: 3 True Label: 3\n",
            "Done!\n",
            "Accuracy: 0.8850000000000007\n"
          ],
          "name": "stdout"
        }
      ]
    },
    {
      "cell_type": "code",
      "metadata": {
        "id": "ZwEdCDEiNqhD",
        "colab_type": "code",
        "colab": {}
      },
      "source": [
        ""
      ],
      "execution_count": 0,
      "outputs": []
    },
    {
      "cell_type": "code",
      "metadata": {
        "id": "Z75ViWPONqip",
        "colab_type": "code",
        "colab": {}
      },
      "source": [
        ""
      ],
      "execution_count": 0,
      "outputs": []
    },
    {
      "cell_type": "code",
      "metadata": {
        "id": "JQX8ra4YNqjP",
        "colab_type": "code",
        "colab": {}
      },
      "source": [
        ""
      ],
      "execution_count": 0,
      "outputs": []
    },
    {
      "cell_type": "code",
      "metadata": {
        "id": "-nsWilR4Nqj6",
        "colab_type": "code",
        "colab": {}
      },
      "source": [
        ""
      ],
      "execution_count": 0,
      "outputs": []
    },
    {
      "cell_type": "code",
      "metadata": {
        "id": "EoFnC2DFNqlD",
        "colab_type": "code",
        "colab": {}
      },
      "source": [
        ""
      ],
      "execution_count": 0,
      "outputs": []
    },
    {
      "cell_type": "code",
      "metadata": {
        "id": "gqXOmd6RNql7",
        "colab_type": "code",
        "colab": {}
      },
      "source": [
        ""
      ],
      "execution_count": 0,
      "outputs": []
    },
    {
      "cell_type": "code",
      "metadata": {
        "id": "I6gH-63JNqme",
        "colab_type": "code",
        "colab": {}
      },
      "source": [
        ""
      ],
      "execution_count": 0,
      "outputs": []
    },
    {
      "cell_type": "code",
      "metadata": {
        "id": "cWJLsJ6PNqnD",
        "colab_type": "code",
        "colab": {}
      },
      "source": [
        ""
      ],
      "execution_count": 0,
      "outputs": []
    },
    {
      "cell_type": "code",
      "metadata": {
        "id": "LNVify0MNqnv",
        "colab_type": "code",
        "colab": {}
      },
      "source": [
        ""
      ],
      "execution_count": 0,
      "outputs": []
    },
    {
      "cell_type": "code",
      "metadata": {
        "id": "VuzJi-WpNqoM",
        "colab_type": "code",
        "colab": {}
      },
      "source": [
        ""
      ],
      "execution_count": 0,
      "outputs": []
    },
    {
      "cell_type": "code",
      "metadata": {
        "id": "_UIYccPTNqo6",
        "colab_type": "code",
        "colab": {}
      },
      "source": [
        ""
      ],
      "execution_count": 0,
      "outputs": []
    },
    {
      "cell_type": "code",
      "metadata": {
        "id": "G4dSIDq0Nqpz",
        "colab_type": "code",
        "colab": {}
      },
      "source": [
        ""
      ],
      "execution_count": 0,
      "outputs": []
    },
    {
      "cell_type": "code",
      "metadata": {
        "id": "yEVj_3gzNqqj",
        "colab_type": "code",
        "colab": {}
      },
      "source": [
        ""
      ],
      "execution_count": 0,
      "outputs": []
    },
    {
      "cell_type": "code",
      "metadata": {
        "id": "iuxqug98NqsN",
        "colab_type": "code",
        "colab": {}
      },
      "source": [
        ""
      ],
      "execution_count": 0,
      "outputs": []
    },
    {
      "cell_type": "code",
      "metadata": {
        "id": "rBbVynmRNquB",
        "colab_type": "code",
        "colab": {}
      },
      "source": [
        ""
      ],
      "execution_count": 0,
      "outputs": []
    },
    {
      "cell_type": "code",
      "metadata": {
        "id": "qxXTGEywNqvN",
        "colab_type": "code",
        "colab": {}
      },
      "source": [
        ""
      ],
      "execution_count": 0,
      "outputs": []
    },
    {
      "cell_type": "code",
      "metadata": {
        "id": "sVVBsBSxNqwi",
        "colab_type": "code",
        "colab": {}
      },
      "source": [
        ""
      ],
      "execution_count": 0,
      "outputs": []
    },
    {
      "cell_type": "code",
      "metadata": {
        "id": "Dus8UhEVNqxq",
        "colab_type": "code",
        "colab": {}
      },
      "source": [
        ""
      ],
      "execution_count": 0,
      "outputs": []
    },
    {
      "cell_type": "code",
      "metadata": {
        "id": "WkeorjxQNqy1",
        "colab_type": "code",
        "colab": {}
      },
      "source": [
        ""
      ],
      "execution_count": 0,
      "outputs": []
    },
    {
      "cell_type": "code",
      "metadata": {
        "id": "siRHOMMGNqz_",
        "colab_type": "code",
        "colab": {}
      },
      "source": [
        ""
      ],
      "execution_count": 0,
      "outputs": []
    },
    {
      "cell_type": "code",
      "metadata": {
        "id": "XGUUVaPMNq1n",
        "colab_type": "code",
        "colab": {}
      },
      "source": [
        ""
      ],
      "execution_count": 0,
      "outputs": []
    },
    {
      "cell_type": "code",
      "metadata": {
        "id": "ifd4G5QJNq3S",
        "colab_type": "code",
        "colab": {}
      },
      "source": [
        ""
      ],
      "execution_count": 0,
      "outputs": []
    },
    {
      "cell_type": "code",
      "metadata": {
        "id": "FoYgXe7wNq45",
        "colab_type": "code",
        "colab": {}
      },
      "source": [
        ""
      ],
      "execution_count": 0,
      "outputs": []
    }
  ]
}