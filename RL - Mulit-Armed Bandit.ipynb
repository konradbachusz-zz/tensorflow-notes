{
 "cells": [
  {
   "cell_type": "code",
   "execution_count": 7,
   "metadata": {},
   "outputs": [],
   "source": [
    "import tensorflow as tf\n",
    "import numpy as np"
   ]
  },
  {
   "cell_type": "code",
   "execution_count": 8,
   "metadata": {},
   "outputs": [],
   "source": [
    "#List out our bandits. Currently bandit 4 (index#3) is set to most often provide a positive reward.\n",
    "bandits = [0.3,0.4,0.9,0.4] #Bandit probabilites of winning or losing\n",
    "num_bandits = len(bandits)"
   ]
  },
  {
   "cell_type": "code",
   "execution_count": 9,
   "metadata": {},
   "outputs": [],
   "source": [
    "def pullBandit(bandit):\n",
    "    #Get a random number.\n",
    "    rand = np.random.random()\n",
    "    if bandit > rand:\n",
    "        #return a positive reward.\n",
    "        return 1\n",
    "    else:\n",
    "        #return a negative reward.\n",
    "        return -1"
   ]
  },
  {
   "cell_type": "code",
   "execution_count": 10,
   "metadata": {},
   "outputs": [],
   "source": [
    "tf.reset_default_graph()\n",
    "\n",
    "#These two lines established the feed-forward part of the network. This does the actual choosing.\n",
    "weights = tf.Variable(tf.ones([num_bandits]))\n",
    "chosen_action = tf.argmax(weights)\n",
    "\n",
    "#The next six lines establish the training proceedure. We feed the reward and chosen action into the network\n",
    "#to compute the loss, and use it to update the network.\n",
    "reward_holder = tf.placeholder(shape=[1],dtype=tf.float32)\n",
    "action_holder = tf.placeholder(shape=[1],dtype=tf.int32)\n",
    "responsible_weight = tf.slice(weights,action_holder,[1])\n",
    "loss = -(tf.log(responsible_weight)*reward_holder)\n",
    "optimizer = tf.train.GradientDescentOptimizer(learning_rate=0.001)\n",
    "update = optimizer.minimize(loss)"
   ]
  },
  {
   "cell_type": "code",
   "execution_count": 13,
   "metadata": {},
   "outputs": [
    {
     "name": "stdout",
     "output_type": "stream",
     "text": [
      "Total reward after 0 episodes: [0. 0. 0. 0.]\n",
      "Total reward after 1 episodes: [-1.  0.  0.  0.]\n",
      "Total reward after 2 episodes: [-1. -1.  0.  0.]\n",
      "Total reward after 3 episodes: [-1. -1.  1.  0.]\n",
      "Total reward after 4 episodes: [-1. -1.  2.  0.]\n",
      "Total reward after 5 episodes: [-1. -1.  3.  0.]\n",
      "Total reward after 6 episodes: [-1. -1.  4.  0.]\n",
      "Total reward after 7 episodes: [-1. -1.  3.  0.]\n",
      "Total reward after 8 episodes: [-1. -1.  4.  0.]\n",
      "Total reward after 9 episodes: [-1. -1.  3.  0.]\n",
      "Total reward after 10 episodes: [-1. -1.  2.  0.]\n",
      "Total reward after 11 episodes: [-1. -1.  3.  0.]\n",
      "Total reward after 12 episodes: [-1. -2.  3.  0.]\n",
      "Total reward after 13 episodes: [-1. -2.  4.  0.]\n",
      "Total reward after 14 episodes: [-1. -2.  5.  0.]\n",
      "Total reward after 15 episodes: [-1. -2.  6.  0.]\n",
      "Total reward after 16 episodes: [-1. -2.  7.  0.]\n",
      "Total reward after 17 episodes: [-1. -2.  6.  0.]\n",
      "Total reward after 18 episodes: [-1. -2.  5.  0.]\n",
      "Total reward after 19 episodes: [-1. -2.  6.  0.]\n",
      "Total reward after 20 episodes: [-1. -3.  6.  0.]\n",
      "\n",
      "The agent guessed the best bandit is: 3\n",
      "The known best bandit is: 3\n"
     ]
    }
   ],
   "source": [
    "total_episodes = 20 #Set total number of episodes to train agent on.\n",
    "total_reward = np.zeros(num_bandits) #Set scoreboard for bandits to 0.\n",
    "print(\"Total reward after 0 episodes: \" + str(total_reward))\n",
    "\n",
    "# Execute the TF session\n",
    "sess = tf.Session();\n",
    "init = tf.initialize_all_variables()\n",
    "sess.run(init)\n",
    "e = 0.1 #Set the chance of taking a random action.\n",
    "i = 0\n",
    "while i < total_episodes:        \n",
    "    #Choose either a random action or one from our network.\n",
    "    if np.random.rand(1) > e:\n",
    "        action = sess.run(chosen_action)\n",
    "    else:\n",
    "        action = np.random.randint(num_bandits)    \n",
    "        \n",
    "    reward = pullBandit(bandits[action]) #Get our reward from picking one of the bandits.\n",
    "        \n",
    "    #Update the network.\n",
    "    _,resp,ww = sess.run([update,responsible_weight,weights], feed_dict={reward_holder:[reward],\n",
    "                                                                         action_holder:[action]})\n",
    "    #Update our running tally of scores.\n",
    "    total_reward[action] += reward\n",
    "    \n",
    "    i+=1\n",
    "    if i % 1 == 0:\n",
    "        print(\"Total reward after \" + str(i) + \" episodes: \" + str(total_reward))    \n",
    "    \n",
    "print(\"\\nThe agent guessed the best bandit is: \" + str(np.argmax(ww)+1))\n",
    "print(\"The known best bandit is: \" + str(np.argmax(bandits)+1))"
   ]
  },
  {
   "cell_type": "code",
   "execution_count": null,
   "metadata": {},
   "outputs": [],
   "source": []
  }
 ],
 "metadata": {
  "kernelspec": {
   "display_name": "Python 3",
   "language": "python",
   "name": "python3"
  },
  "language_info": {
   "codemirror_mode": {
    "name": "ipython",
    "version": 3
   },
   "file_extension": ".py",
   "mimetype": "text/x-python",
   "name": "python",
   "nbconvert_exporter": "python",
   "pygments_lexer": "ipython3",
   "version": "3.6.5"
  }
 },
 "nbformat": 4,
 "nbformat_minor": 2
}
